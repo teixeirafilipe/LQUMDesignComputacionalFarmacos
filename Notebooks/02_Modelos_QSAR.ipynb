{
  "nbformat": 4,
  "nbformat_minor": 0,
  "metadata": {
    "colab": {
      "name": "02-Modelos_QSAR",
      "provenance": [],
      "collapsed_sections": [],
      "toc_visible": true
    },
    "kernelspec": {
      "name": "python3",
      "display_name": "Python 3"
    },
    "language_info": {
      "name": "python"
    }
  },
  "cells": [
    {
      "cell_type": "markdown",
      "source": [
        "# Modelos de QSAR\n",
        "\n",
        "Os modelos QSAR tentam prever a actividade biológica de uma série de compostos a partir da sua estrutura. Estes modelos podem ser quantitativos (regressores) ou quaitativos (classificadores). No caso dos modelos regressores, tenta-se chegar a um valor aproximado da actividade biológica, ao passo que os classificadores apenas permitem obter uma previsão binária (positivo/negativo) relativamente à actividade.\n",
        "\n",
        "Em ambos os casos, o procedimento de estudo passa pelos seguintes passos:\n",
        "1. Recolha dos dados de actividade biológica\n",
        "1. Recolha dos descritores moleculares\n",
        "1. Cura dos dados\n",
        "1. Divisão dos dados entre conjunto de treino e conjunto de teste\n",
        "1. Treino do modelo QSAR\n",
        "1. Validação do modelo usando os dados de teste\n",
        "1. Aplicação do modelo aos nossos compostos-problema (para os quais ainda não há informação)\n",
        "\n",
        "Neste notebook iremos recolher manualmente os dados de actividade a partir do PubChem (Passo 1). Depois os dados serão carregados no notebook (atraves de um ficheiro CSV) e vamos usar a API do PubChem para obter a representação SMILES de cada composto na base de dados (Passo 2a). Os descritores serão então calculados usandoo RDKIT (Passo 2b). Após a divisão dos dados em conjuntos de treino e teste (Passo 3) iremos treinar e validar dois modelos QSAR: um regressor e um classificador. Cada um desses modelos será analisado nas suas características e métricas, e finalmente aplicamos cada um desses modelos a um conjnto de quatro moléculas-problema.\n",
        "\n",
        "Este tutorial está escrito de forma a que possa ser aplicado a outros conjuntos de dados com alteração mínima (preferencialmente nenhuma) do código python."
      ],
      "metadata": {
        "id": "nwBMDhX2LF1F"
      }
    },
    {
      "cell_type": "markdown",
      "source": [
        "## Setup\n",
        "\n",
        "Esta secção tem as definições de funções necessárias para correr as aplicações de química/design de fármacos."
      ],
      "metadata": {
        "id": "jKpe-kWfBWrf"
      }
    },
    {
      "cell_type": "code",
      "source": [
        "%%capture\n",
        "! pip install ase\n",
        "! pip install py3Dmol\n",
        "! pip install seaborn\n",
        "! pip install pubchempy\n",
        "\n",
        "\n",
        "\n",
        "!wget -c https://repo.continuum.io/miniconda/Miniconda3-py37_4.8.3-Linux-x86_64.sh\n",
        "!chmod +x Miniconda3-py37_4.8.3-Linux-x86_64.sh\n",
        "!time bash ./Miniconda3-py37_4.8.3-Linux-x86_64.sh -b -f -p /usr/local\n",
        "!time conda install -y -c rdkit rdkit \n",
        "!time conda install -y -c conda-forge openbabel\n",
        "#!time conda install -y gxx_linux-64\n",
        "#!time conda install -q -y -c conda-forge rdkit\n",
        "#time conda install  -y -c conda-forge xtb\n",
        "\n",
        "#wget -c https://repo.continuum.io/miniconda/Miniconda3-latest-Linux-x86_64.sh\n",
        "#chmod +x Miniconda3-latest-Linux-x86_64.sh\n",
        "#bash ./Miniconda3-latest-Linux-x86_64.sh -b -f -p /usr/local\n",
        "#conda install  -y -c conda-forge python\n",
        "#conda install  -y -c conda-forge rdkit\n",
        "#conda install  -y -c conda-forge xtb\n",
        "#pip install --user py3Dmol\n",
        "#pip install --user seaborn\n",
        "\n",
        "# install XTB\n",
        "#wget -c https://github.com/grimme-lab/xtb/releases/download/v6.4.0/xtb-210201.tar.xz\n",
        "#tar xf xtb-210201.tar.xz\n",
        "#export PATH=/content/xtb-6.4.0/bin:${PATH}\n",
        "#cd ..\n",
        "\n"
      ],
      "metadata": {
        "id": "ew7dz5X1B4hR"
      },
      "execution_count": 2,
      "outputs": []
    },
    {
      "cell_type": "code",
      "source": [
        "import sys\n",
        "site_pkg_path='/usr/local/lib/python3.7/site-packages'\n",
        "if site_pkg_path not in sys.path:\n",
        "  sys.path.append(site_pkg_path)\n",
        "import os\n",
        "\n",
        "import numpy as np\n",
        "import pandas as pd\n",
        "\n",
        "from sklearn import compose\n",
        "from sklearn import metrics\n",
        "from sklearn import preprocessing\n",
        "from sklearn import linear_model\n",
        "from sklearn import pipeline\n",
        "from sklearn import model_selection\n",
        "\n",
        "import time\n",
        "#import ase\n",
        "import pubchempy\n",
        "from collections import defaultdict\n",
        "from rdkit import Chem\n",
        "from rdkit.Chem import AllChem\n",
        "from rdkit.Chem import Descriptors\n",
        "from rdkit.Chem import rdMolDescriptors\n",
        "from rdkit.Chem import rdFMCS\n",
        "from rdkit.Chem import Draw\n",
        "from rdkit.Chem.Draw import IPythonConsole\n",
        "from rdkit.Chem import rdDistGeom\n",
        "IPythonConsole.ipython_3d = True\n",
        "\n",
        "import py3Dmol\n",
        "import matplotlib.pyplot as plt\n",
        "import subprocess\n",
        "import seaborn as sb\n",
        "\n",
        "## FUNÇÕES ADMINISTRATIVAS ##\n",
        "\n",
        "def shell(cmd, shell=True):\n",
        "  \"runs a command in the linux shell, adapted from Jimmy Kromann.\"\n",
        "  if shell:\n",
        "    p = subprocess.Popen(cmd, shell=True, stdin=subprocess.PIPE, stdout=subprocess.PIPE, stderr=subprocess.PIPE)\n",
        "  else:\n",
        "    p = subprocess.Popen(cmd, shell=True, stdin=subprocess.PIPE, stdout=subprocess.PIPE, stderr=subprocess.PIPE)\n",
        "  output, err = p.communicate()\n",
        "  return output\n",
        "\n",
        "def run_xtb(args):\n",
        "  return shell(f\"/content/xtb-6.4.0/bin/xtb {args}\")\n",
        "\n",
        "def get_snapshot(dirname='/content/work_dir',fn=None):\n",
        "  \"Downloads work_dir as a tbz file for archive.\"\n",
        "  from google.colab import files\n",
        "  import os\n",
        "  import time\n",
        "  origin = os.path.abspath(os.curdir)\n",
        "  now=time.localtime()\n",
        "  date_str=f\"{now[0]-2000:02d}{now[1]:02d}{now[2]:02d}-{now[3]:02d}{now[4]:02d}\"\n",
        "  ofn = fn if fn else f\"{date_str}-{os.path.split(dirname)[-1]}.zip\"\n",
        "  os.chdir(dirname)\n",
        "  os.chdir('..')\n",
        "  shell(f\"zip -r {ofn} ./{os.path.split(dirname)[-1]}\")\n",
        "  files.download(ofn)\n",
        "  os.chdir(origin)\n",
        "  print(f\"O ficheiro {ofn} está pronto para download...\")\n",
        "\n",
        "## Funções gráficas ##\n",
        "\n",
        "def make_fitness_plot(model, x_train, y_train, x_test, y_test, y_name='Property'):\n",
        "  y_train_pred = model.predict(x_train)\n",
        "  y_test_pred = model.predict(x_test)\n",
        "  fig = plt.figure()\n",
        "  ax = fig.add_subplot(1,1,1)\n",
        "  l_train = ax.scatter(y_train,y_train_pred)\n",
        "  l_test = ax.scatter(y_test,y_test_pred)\n",
        "  y_full=np.concatenate((y_test,y_train))\n",
        "  l3 = ax.plot(y_full,y_full)\n",
        "  ax.set_xlabel(f\"{y_name} (Original)\")\n",
        "  ax.set_ylabel(f\"{y_name} (Predicted)\")\n",
        "  l = ax.legend([l_train,l_test],['Train data','Test data'])\n",
        "  plt.show()\n",
        "\n",
        "\n",
        "# Criar a work_dir e mudar para lá\n",
        "os.chdir('/content/')\n",
        "try:\n",
        "  os.mkdir('work_dir')\n",
        "except:\n",
        "  print(\"Pasta 'work_dir' já existe.\")\n",
        "  \n",
        "os.chdir('/content/work_dir')\n"
      ],
      "metadata": {
        "colab": {
          "base_uri": "https://localhost:8080/"
        },
        "id": "-i4wByWRCJnJ",
        "outputId": "deb57d57-9547-42bf-aa71-a0fc95a9bf70"
      },
      "execution_count": 33,
      "outputs": [
        {
          "output_type": "stream",
          "name": "stdout",
          "text": [
            "Pasta 'work_dir' já existe.\n"
          ]
        }
      ]
    },
    {
      "cell_type": "markdown",
      "source": [
        "## Passo 1: Recolher os Dados de Actividade do PubChem \n",
        "\n",
        "Recolhemos os dados de actividade do pubchem e fazemos upload. "
      ],
      "metadata": {
        "id": "jTXfqKs2Xwj1"
      }
    },
    {
      "cell_type": "code",
      "source": [
        "from google.colab import files\n",
        "\n",
        "uploaded = files.upload()\n"
      ],
      "metadata": {
        "colab": {
          "resources": {
            "http://localhost:8080/nbextensions/google.colab/files.js": {
              "data": "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",
              "ok": true,
              "headers": [
                [
                  "content-type",
                  "application/javascript"
                ]
              ],
              "status": 200,
              "status_text": "OK"
            }
          },
          "base_uri": "https://localhost:8080/",
          "height": 76
        },
        "id": "IQFu4CDCcjK5",
        "outputId": "9c1c75bc-c54d-4c6e-a0f8-69e0ffa418ca"
      },
      "execution_count": 4,
      "outputs": [
        {
          "output_type": "display_data",
          "data": {
            "text/plain": [
              "<IPython.core.display.HTML object>"
            ],
            "text/html": [
              "\n",
              "     <input type=\"file\" id=\"files-0156f459-5a35-4359-a6b3-ea8f566f18b2\" name=\"files[]\" multiple disabled\n",
              "        style=\"border:none\" />\n",
              "     <output id=\"result-0156f459-5a35-4359-a6b3-ea8f566f18b2\">\n",
              "      Upload widget is only available when the cell has been executed in the\n",
              "      current browser session. Please rerun this cell to enable.\n",
              "      </output>\n",
              "      <script src=\"/nbextensions/google.colab/files.js\"></script> "
            ]
          },
          "metadata": {}
        },
        {
          "output_type": "stream",
          "name": "stdout",
          "text": [
            "Saving activity.csv to activity.csv\n"
          ]
        }
      ]
    },
    {
      "cell_type": "markdown",
      "source": [
        "Neste exemplo, os dados estão no ficheiro \"actividade.csv\". O qual só aparece no código python no final da próxima célula de código."
      ],
      "metadata": {
        "id": "iiAfeO6Wcjml"
      }
    },
    {
      "cell_type": "code",
      "source": [
        "csv_fn=\"/content/work_dir/activity.csv\""
      ],
      "metadata": {
        "id": "ljytCRpRJCje"
      },
      "execution_count": 5,
      "outputs": []
    },
    {
      "cell_type": "markdown",
      "source": [
        "Começamos por carregar o ficheiro csv com o pacote pandas (`pd.read_csv()`) depois há que proceder com alguma inspecção dos dados (descrita em comentário ao código."
      ],
      "metadata": {
        "id": "sbtjQNiuYjx1"
      }
    },
    {
      "cell_type": "code",
      "source": [
        "# Carregar o ficheiro\n",
        "data = pd.read_csv(csv_fn)\n",
        "\n",
        "print(f\"Os dados originais têm {len(data)} linhas.\")\n",
        "\n",
        "# Há duas colunas potencialmente problemáticas: acvalue e activity\n",
        "\n",
        "# em primeiro lugar, nem todas as Activity são Active e Inactive, pelo que vamos\n",
        "# remover todas as linhas que não cabem dentro desta classificação binária\n",
        "data=data[(data[\"activity\"]==\"Active\") | (data[\"activity\"]==\"Inactive\")]\n",
        "print(f\"Agora os dados têm {len(data)} linhas.\")\n",
        "\n",
        "# finalmente, para certos dados, acvalue está como NaN (not a number)\n",
        "# vamos alterar isto para 0.0, no caso dos compostos dados como Inactive\n",
        "# e elimina as linhas que permanecem com NaN\n",
        "data[\"acvalue\"][data[\"activity\"]=='Inactive'] = 0.0\n",
        "data=data.dropna()\n",
        "print(f\"No final os dados têm {len(data)} linhas.\")\n",
        "\n",
        "# vamos também remover a coluna acname\n",
        "data=data.drop(\"acname\", axis=1)"
      ],
      "metadata": {
        "colab": {
          "base_uri": "https://localhost:8080/"
        },
        "id": "9If2FRqCZYty",
        "outputId": "56d6500a-0623-4c3e-8d10-31b1ab8e9511"
      },
      "execution_count": 39,
      "outputs": [
        {
          "output_type": "stream",
          "name": "stdout",
          "text": [
            "Os dados originais têm 16454 linhas.\n",
            "Agora os dados têm 11392 linhas.\n",
            "No final os dados têm 9852 linhas.\n"
          ]
        }
      ]
    },
    {
      "cell_type": "markdown",
      "source": [
        "## Passo 2: Recolha dos descritores moleculares\n",
        "\n",
        "Para recolher os SMILES dos 9825 compostos da nossa tabela, usamos o pacote `pubchempy`, que permite fazer pesquisas na pubchem de forma automática usando o python. Neste caso em particular, vamos guardar os vários smiles em sequência numa lista que depois é guardada na base de dados.\n",
        "\n",
        "Temos que usar um loop do tipo `for` com uma instrução do tipo sleep pelo meio para evitar saturar o servidor da PubChem. No entanto, com um sleep de 0.5, a recuperação dos cerca de 10000 compostos demora cerca de 2 horas (!). Para facilitar a nossa vida, vamos primeiro reduzir os dados a 500 compostos (todos os inactivos e o resto dos dados é preenchido por compostos activos)."
      ],
      "metadata": {
        "id": "vpnXesU_hR6f"
      }
    },
    {
      "cell_type": "code",
      "source": [
        "# comentar estas linhas se pretender usar todos os dados\n",
        "data_inactive=data[data['activity']=='Inactive']\n",
        "n_inactive = len(data_inactive)\n",
        "data_active=data[data['activity']=='Active'].sample(n=500-n_inactive)\n",
        "data=pd.concat([data_inactive,data_active])\n",
        "# A partir daqui não é necessário editar o codigo\n",
        "\n",
        "smiles_lst=list()\n",
        "\n",
        "for cid in data['cid']:\n",
        "  smiles_lst.append(pubchempy.Compound.from_cid(cid).canonical_smiles)\n",
        "  time.sleep(0.5)\n",
        "\n",
        "data['SIMLES']=smiles_lst"
      ],
      "metadata": {
        "id": "DDgvZPQGcsIF"
      },
      "execution_count": 40,
      "outputs": []
    },
    {
      "cell_type": "markdown",
      "source": [
        "Neste ponto, podemos querer guardar uma cópia dos dados em formato CSV para documentação do trabalho."
      ],
      "metadata": {
        "id": "h-oKMssVp-v0"
      }
    },
    {
      "cell_type": "code",
      "source": [
        "data.to_csv('snapshoot.csv',index=False)"
      ],
      "metadata": {
        "id": "By8Mr5F-jFgk"
      },
      "execution_count": 41,
      "outputs": []
    },
    {
      "cell_type": "markdown",
      "source": [
        "Agora que já temos os SMILES, podemos descartar os CIDs."
      ],
      "metadata": {
        "id": "jnt_LH8iqq7f"
      }
    },
    {
      "cell_type": "code",
      "source": [
        "data=data.drop('cid',axis=1)"
      ],
      "metadata": {
        "id": "AjY06h_apttZ"
      },
      "execution_count": 42,
      "outputs": []
    },
    {
      "cell_type": "markdown",
      "source": [
        "Agora, existe uma lista extensa de descritores disponívels no RdKit (https://www.rdkit.org/docs/GettingStartedInPython.html#list-of-available-descriptors). Para este exemplo vamos usar apenas alguns, que colocamos num dicionário (pares nome e nome da função que o calcula)"
      ],
      "metadata": {
        "id": "tx7Ctjm6q7C3"
      }
    },
    {
      "cell_type": "code",
      "source": [
        "descriptor_d = dict()\n",
        "\n",
        "descriptor_d['MolLogP'] = Chem.Descriptors.MolLogP\n",
        "descriptor_d['BertzCT'] = Chem.Descriptors.BertzCT\n",
        "descriptor_d['HallKierAlpha'] = Chem.Descriptors.HallKierAlpha\n",
        "descriptor_d['Chi0'] = Chem.Descriptors.Chi0\n",
        "descriptor_d['Chi1'] = Chem.Descriptors.Chi1\n",
        "descriptor_d['MolWt'] = Chem.Descriptors.MolWt\n",
        "descriptor_d['HeavyAtomCount'] = Chem.Descriptors.HeavyAtomCount\n",
        "descriptor_d['NumHAcceptors'] = Chem.Descriptors.NumHAcceptors\n",
        "descriptor_d['NumHDonors'] = Chem.Descriptors.NumHDonors\n",
        "descriptor_d['NumHeteroatoms'] = Chem.Descriptors.NumHeteroatoms\n",
        "descriptor_d['NumRotatableBonds'] = Chem.Descriptors.NumRotatableBonds\n",
        "descriptor_d['NumValenceElectrons'] = Chem.Descriptors.NumValenceElectrons\n",
        "descriptor_d['FractionCSP3'] = Chem.Descriptors.FractionCSP3\n",
        "descriptor_d['TPSA'] = Chem.Descriptors.TPSA\n",
        "descriptor_d['LabuteASA'] = Chem.Descriptors.LabuteASA\n",
        "descriptor_d['VSA_EState1'] = Chem.Descriptors.VSA_EState1\n",
        "descriptor_d['VSA_EState2'] = Chem.Descriptors.VSA_EState2\n",
        "descriptor_d['VSA_EState3'] = Chem.Descriptors.VSA_EState3\n",
        "descriptor_d['VSA_EState4'] = Chem.Descriptors.VSA_EState4\n",
        "descriptor_d['VSA_EState5'] = Chem.Descriptors.VSA_EState5\n",
        "descriptor_d['VSA_EState6'] = Chem.Descriptors.VSA_EState6\n",
        "descriptor_d['VSA_EState7'] = Chem.Descriptors.VSA_EState7\n",
        "descriptor_d['VSA_EState8'] = Chem.Descriptors.VSA_EState8\n",
        "descriptor_d['VSA_EState9'] = Chem.Descriptors.VSA_EState9\n",
        "descriptor_d['VSA_EState10'] = Chem.Descriptors.VSA_EState10"
      ],
      "metadata": {
        "id": "9JO4EqS9q0tA"
      },
      "execution_count": 43,
      "outputs": []
    },
    {
      "cell_type": "code",
      "source": [
        "descs=dict()\n",
        "\n",
        "for k in descriptor_d:\n",
        "  descs=list()\n",
        "  for smi in data['SIMLES']:\n",
        "    c = Chem.MolFromSmiles(smi)\n",
        "    descs.append(descriptor_d[k](c))\n",
        "  data[k]=descs\n",
        "\n",
        "data"
      ],
      "metadata": {
        "colab": {
          "base_uri": "https://localhost:8080/",
          "height": 505
        },
        "id": "tJBc6waYsYOU",
        "outputId": "342c9f25-a55e-41dd-bcef-39813c15dbcd"
      },
      "execution_count": 44,
      "outputs": [
        {
          "output_type": "execute_result",
          "data": {
            "text/plain": [
              "       acvalue  activity                                             SIMLES  \\\n",
              "11557  0.00000  Inactive  C1=CC=C2C=C(C=CC2=C1)NS(=O)(=O)C3=CC=CC=C3C=CC...   \n",
              "11558  0.00000  Inactive       C1=CC=C(C=C1)NS(=O)(=O)C2=CC=CC=C2C=CC(=O)NO   \n",
              "11560  0.00000  Inactive        CC1=C2COC(=O)C2=C(C(=C1OC)CC=C(C)CCC(=O)O)O   \n",
              "11561  0.00000  Inactive  C1=C(N=C(S1)C2C(C(C(O2)COP(=O)(O)OP(=O)(O)OCC3...   \n",
              "11673  0.00000  Inactive                            CN1CCC=C(C1=O)CCC(=O)NO   \n",
              "...        ...       ...                                                ...   \n",
              "7627   1.43000    Active  CC1=CC(=CC(=C1)C(=O)N(CCCCCC(=O)NC2=C(C=CC(=C2...   \n",
              "27     0.00011    Active  C1CC2CC(=O)NC(C(=O)NC(C(=O)NC(C(=O)N2C1)CC3=CC...   \n",
              "1768   0.02000    Active  C1CCC(CC1)C(=O)NCC2=CC=C(C=C2)C(=O)NC3=C(C=CC(...   \n",
              "2828   0.05000    Active        CCCCN(CC)CC1=C(N=C2N1C=CC(=C2)C=CC(=O)NO)CC   \n",
              "5938   0.39000    Active  C1=CC(=CC=C1CNC(=O)C2=C(C=C(N2)C3=CC=C(C=C3)F)...   \n",
              "\n",
              "       MolLogP      BertzCT  HallKierAlpha       Chi0       Chi1    MolWt  \\\n",
              "11557  3.15920  1091.399248          -3.16  18.570703  12.492332  368.414   \n",
              "11558  2.00600   786.199563          -2.64  16.001789  10.526005  318.354   \n",
              "11560  2.73322   687.059387          -2.50  17.145900  10.862280  320.341   \n",
              "11561 -2.30440  1591.757336          -2.53  31.266856  20.171142  669.459   \n",
              "11673  0.06050   273.230632          -1.36  10.552042   6.647066  198.222   \n",
              "...        ...          ...            ...        ...        ...      ...   \n",
              "7627   6.51034  1516.892829          -4.91  30.605873  20.778897  576.741   \n",
              "27     2.23930  1315.564590          -4.05  30.890330  21.368214  602.732   \n",
              "1768   5.38460  1071.815417          -3.60  22.338288  15.597357  427.548   \n",
              "2828   3.03730   736.344474          -2.18  18.233840  12.121253  344.459   \n",
              "5938   4.67590  1282.239015          -4.30  23.371668  15.939892  447.441   \n",
              "\n",
              "       HeavyAtomCount  ...  VSA_EState1  VSA_EState2  VSA_EState3  \\\n",
              "11557              26  ...    28.112658    11.171898    10.467245   \n",
              "11558              22  ...    27.348347    11.052697     8.455421   \n",
              "11560              23  ...    10.392532    22.404940    19.149895   \n",
              "11561              43  ...    50.583802    46.954681    42.813997   \n",
              "11673              14  ...     0.000000    23.850139     8.267796   \n",
              "...               ...  ...          ...          ...          ...   \n",
              "7627               43  ...     0.000000    40.606486     5.863627   \n",
              "27                 44  ...     5.051005    68.463813     8.773335   \n",
              "1768               32  ...     0.000000    25.086234     5.946089   \n",
              "2828               25  ...     2.135807    18.328745     8.553094   \n",
              "5938               33  ...    26.742078    27.542879    11.512516   \n",
              "\n",
              "       VSA_EState4  VSA_EState5  VSA_EState6  VSA_EState7  VSA_EState8  \\\n",
              "11557     2.223317    -0.750288    19.188584     2.365959     0.000000   \n",
              "11558     2.209957    -0.747019    14.708804     2.349187     0.000000   \n",
              "11560     3.040892    -0.972732     0.000000     2.680414     3.793845   \n",
              "11561    11.139381    -0.781543     0.000000    -9.481190    -1.798120   \n",
              "11673     2.194482    -0.491744     0.000000     3.211096     0.730684   \n",
              "...            ...          ...          ...          ...          ...   \n",
              "7627     12.827756    -0.495533    30.955355     2.379087     4.696554   \n",
              "27        1.756228    -1.296554    15.941393     4.631743     1.012369   \n",
              "1768     10.740752     0.061023    22.874999     5.482072     0.475497   \n",
              "2828      5.686324    -0.548460     3.896077     8.237946     9.543800   \n",
              "5938      5.370498    -1.781492    19.758743     0.000000     0.188112   \n",
              "\n",
              "       VSA_EState9  VSA_EState10  \n",
              "11557    -3.862706      0.000000  \n",
              "11558    -3.794061      0.000000  \n",
              "11560     1.510214      0.000000  \n",
              "11561   -10.727605      0.907707  \n",
              "11673     1.737547      0.000000  \n",
              "...            ...           ...  \n",
              "7627      0.000000      0.000000  \n",
              "27        0.000000      0.000000  \n",
              "1768      0.000000      0.000000  \n",
              "2828      0.000000      0.000000  \n",
              "5938      0.000000      0.000000  \n",
              "\n",
              "[500 rows x 28 columns]"
            ],
            "text/html": [
              "\n",
              "  <div id=\"df-7e7eabdd-75ea-4c9f-8a07-aeebfaa36973\">\n",
              "    <div class=\"colab-df-container\">\n",
              "      <div>\n",
              "<style scoped>\n",
              "    .dataframe tbody tr th:only-of-type {\n",
              "        vertical-align: middle;\n",
              "    }\n",
              "\n",
              "    .dataframe tbody tr th {\n",
              "        vertical-align: top;\n",
              "    }\n",
              "\n",
              "    .dataframe thead th {\n",
              "        text-align: right;\n",
              "    }\n",
              "</style>\n",
              "<table border=\"1\" class=\"dataframe\">\n",
              "  <thead>\n",
              "    <tr style=\"text-align: right;\">\n",
              "      <th></th>\n",
              "      <th>acvalue</th>\n",
              "      <th>activity</th>\n",
              "      <th>SIMLES</th>\n",
              "      <th>MolLogP</th>\n",
              "      <th>BertzCT</th>\n",
              "      <th>HallKierAlpha</th>\n",
              "      <th>Chi0</th>\n",
              "      <th>Chi1</th>\n",
              "      <th>MolWt</th>\n",
              "      <th>HeavyAtomCount</th>\n",
              "      <th>...</th>\n",
              "      <th>VSA_EState1</th>\n",
              "      <th>VSA_EState2</th>\n",
              "      <th>VSA_EState3</th>\n",
              "      <th>VSA_EState4</th>\n",
              "      <th>VSA_EState5</th>\n",
              "      <th>VSA_EState6</th>\n",
              "      <th>VSA_EState7</th>\n",
              "      <th>VSA_EState8</th>\n",
              "      <th>VSA_EState9</th>\n",
              "      <th>VSA_EState10</th>\n",
              "    </tr>\n",
              "  </thead>\n",
              "  <tbody>\n",
              "    <tr>\n",
              "      <th>11557</th>\n",
              "      <td>0.00000</td>\n",
              "      <td>Inactive</td>\n",
              "      <td>C1=CC=C2C=C(C=CC2=C1)NS(=O)(=O)C3=CC=CC=C3C=CC...</td>\n",
              "      <td>3.15920</td>\n",
              "      <td>1091.399248</td>\n",
              "      <td>-3.16</td>\n",
              "      <td>18.570703</td>\n",
              "      <td>12.492332</td>\n",
              "      <td>368.414</td>\n",
              "      <td>26</td>\n",
              "      <td>...</td>\n",
              "      <td>28.112658</td>\n",
              "      <td>11.171898</td>\n",
              "      <td>10.467245</td>\n",
              "      <td>2.223317</td>\n",
              "      <td>-0.750288</td>\n",
              "      <td>19.188584</td>\n",
              "      <td>2.365959</td>\n",
              "      <td>0.000000</td>\n",
              "      <td>-3.862706</td>\n",
              "      <td>0.000000</td>\n",
              "    </tr>\n",
              "    <tr>\n",
              "      <th>11558</th>\n",
              "      <td>0.00000</td>\n",
              "      <td>Inactive</td>\n",
              "      <td>C1=CC=C(C=C1)NS(=O)(=O)C2=CC=CC=C2C=CC(=O)NO</td>\n",
              "      <td>2.00600</td>\n",
              "      <td>786.199563</td>\n",
              "      <td>-2.64</td>\n",
              "      <td>16.001789</td>\n",
              "      <td>10.526005</td>\n",
              "      <td>318.354</td>\n",
              "      <td>22</td>\n",
              "      <td>...</td>\n",
              "      <td>27.348347</td>\n",
              "      <td>11.052697</td>\n",
              "      <td>8.455421</td>\n",
              "      <td>2.209957</td>\n",
              "      <td>-0.747019</td>\n",
              "      <td>14.708804</td>\n",
              "      <td>2.349187</td>\n",
              "      <td>0.000000</td>\n",
              "      <td>-3.794061</td>\n",
              "      <td>0.000000</td>\n",
              "    </tr>\n",
              "    <tr>\n",
              "      <th>11560</th>\n",
              "      <td>0.00000</td>\n",
              "      <td>Inactive</td>\n",
              "      <td>CC1=C2COC(=O)C2=C(C(=C1OC)CC=C(C)CCC(=O)O)O</td>\n",
              "      <td>2.73322</td>\n",
              "      <td>687.059387</td>\n",
              "      <td>-2.50</td>\n",
              "      <td>17.145900</td>\n",
              "      <td>10.862280</td>\n",
              "      <td>320.341</td>\n",
              "      <td>23</td>\n",
              "      <td>...</td>\n",
              "      <td>10.392532</td>\n",
              "      <td>22.404940</td>\n",
              "      <td>19.149895</td>\n",
              "      <td>3.040892</td>\n",
              "      <td>-0.972732</td>\n",
              "      <td>0.000000</td>\n",
              "      <td>2.680414</td>\n",
              "      <td>3.793845</td>\n",
              "      <td>1.510214</td>\n",
              "      <td>0.000000</td>\n",
              "    </tr>\n",
              "    <tr>\n",
              "      <th>11561</th>\n",
              "      <td>0.00000</td>\n",
              "      <td>Inactive</td>\n",
              "      <td>C1=C(N=C(S1)C2C(C(C(O2)COP(=O)(O)OP(=O)(O)OCC3...</td>\n",
              "      <td>-2.30440</td>\n",
              "      <td>1591.757336</td>\n",
              "      <td>-2.53</td>\n",
              "      <td>31.266856</td>\n",
              "      <td>20.171142</td>\n",
              "      <td>669.459</td>\n",
              "      <td>43</td>\n",
              "      <td>...</td>\n",
              "      <td>50.583802</td>\n",
              "      <td>46.954681</td>\n",
              "      <td>42.813997</td>\n",
              "      <td>11.139381</td>\n",
              "      <td>-0.781543</td>\n",
              "      <td>0.000000</td>\n",
              "      <td>-9.481190</td>\n",
              "      <td>-1.798120</td>\n",
              "      <td>-10.727605</td>\n",
              "      <td>0.907707</td>\n",
              "    </tr>\n",
              "    <tr>\n",
              "      <th>11673</th>\n",
              "      <td>0.00000</td>\n",
              "      <td>Inactive</td>\n",
              "      <td>CN1CCC=C(C1=O)CCC(=O)NO</td>\n",
              "      <td>0.06050</td>\n",
              "      <td>273.230632</td>\n",
              "      <td>-1.36</td>\n",
              "      <td>10.552042</td>\n",
              "      <td>6.647066</td>\n",
              "      <td>198.222</td>\n",
              "      <td>14</td>\n",
              "      <td>...</td>\n",
              "      <td>0.000000</td>\n",
              "      <td>23.850139</td>\n",
              "      <td>8.267796</td>\n",
              "      <td>2.194482</td>\n",
              "      <td>-0.491744</td>\n",
              "      <td>0.000000</td>\n",
              "      <td>3.211096</td>\n",
              "      <td>0.730684</td>\n",
              "      <td>1.737547</td>\n",
              "      <td>0.000000</td>\n",
              "    </tr>\n",
              "    <tr>\n",
              "      <th>...</th>\n",
              "      <td>...</td>\n",
              "      <td>...</td>\n",
              "      <td>...</td>\n",
              "      <td>...</td>\n",
              "      <td>...</td>\n",
              "      <td>...</td>\n",
              "      <td>...</td>\n",
              "      <td>...</td>\n",
              "      <td>...</td>\n",
              "      <td>...</td>\n",
              "      <td>...</td>\n",
              "      <td>...</td>\n",
              "      <td>...</td>\n",
              "      <td>...</td>\n",
              "      <td>...</td>\n",
              "      <td>...</td>\n",
              "      <td>...</td>\n",
              "      <td>...</td>\n",
              "      <td>...</td>\n",
              "      <td>...</td>\n",
              "      <td>...</td>\n",
              "    </tr>\n",
              "    <tr>\n",
              "      <th>7627</th>\n",
              "      <td>1.43000</td>\n",
              "      <td>Active</td>\n",
              "      <td>CC1=CC(=CC(=C1)C(=O)N(CCCCCC(=O)NC2=C(C=CC(=C2...</td>\n",
              "      <td>6.51034</td>\n",
              "      <td>1516.892829</td>\n",
              "      <td>-4.91</td>\n",
              "      <td>30.605873</td>\n",
              "      <td>20.778897</td>\n",
              "      <td>576.741</td>\n",
              "      <td>43</td>\n",
              "      <td>...</td>\n",
              "      <td>0.000000</td>\n",
              "      <td>40.606486</td>\n",
              "      <td>5.863627</td>\n",
              "      <td>12.827756</td>\n",
              "      <td>-0.495533</td>\n",
              "      <td>30.955355</td>\n",
              "      <td>2.379087</td>\n",
              "      <td>4.696554</td>\n",
              "      <td>0.000000</td>\n",
              "      <td>0.000000</td>\n",
              "    </tr>\n",
              "    <tr>\n",
              "      <th>27</th>\n",
              "      <td>0.00011</td>\n",
              "      <td>Active</td>\n",
              "      <td>C1CC2CC(=O)NC(C(=O)NC(C(=O)NC(C(=O)N2C1)CC3=CC...</td>\n",
              "      <td>2.23930</td>\n",
              "      <td>1315.564590</td>\n",
              "      <td>-4.05</td>\n",
              "      <td>30.890330</td>\n",
              "      <td>21.368214</td>\n",
              "      <td>602.732</td>\n",
              "      <td>44</td>\n",
              "      <td>...</td>\n",
              "      <td>5.051005</td>\n",
              "      <td>68.463813</td>\n",
              "      <td>8.773335</td>\n",
              "      <td>1.756228</td>\n",
              "      <td>-1.296554</td>\n",
              "      <td>15.941393</td>\n",
              "      <td>4.631743</td>\n",
              "      <td>1.012369</td>\n",
              "      <td>0.000000</td>\n",
              "      <td>0.000000</td>\n",
              "    </tr>\n",
              "    <tr>\n",
              "      <th>1768</th>\n",
              "      <td>0.02000</td>\n",
              "      <td>Active</td>\n",
              "      <td>C1CCC(CC1)C(=O)NCC2=CC=C(C=C2)C(=O)NC3=C(C=CC(...</td>\n",
              "      <td>5.38460</td>\n",
              "      <td>1071.815417</td>\n",
              "      <td>-3.60</td>\n",
              "      <td>22.338288</td>\n",
              "      <td>15.597357</td>\n",
              "      <td>427.548</td>\n",
              "      <td>32</td>\n",
              "      <td>...</td>\n",
              "      <td>0.000000</td>\n",
              "      <td>25.086234</td>\n",
              "      <td>5.946089</td>\n",
              "      <td>10.740752</td>\n",
              "      <td>0.061023</td>\n",
              "      <td>22.874999</td>\n",
              "      <td>5.482072</td>\n",
              "      <td>0.475497</td>\n",
              "      <td>0.000000</td>\n",
              "      <td>0.000000</td>\n",
              "    </tr>\n",
              "    <tr>\n",
              "      <th>2828</th>\n",
              "      <td>0.05000</td>\n",
              "      <td>Active</td>\n",
              "      <td>CCCCN(CC)CC1=C(N=C2N1C=CC(=C2)C=CC(=O)NO)CC</td>\n",
              "      <td>3.03730</td>\n",
              "      <td>736.344474</td>\n",
              "      <td>-2.18</td>\n",
              "      <td>18.233840</td>\n",
              "      <td>12.121253</td>\n",
              "      <td>344.459</td>\n",
              "      <td>25</td>\n",
              "      <td>...</td>\n",
              "      <td>2.135807</td>\n",
              "      <td>18.328745</td>\n",
              "      <td>8.553094</td>\n",
              "      <td>5.686324</td>\n",
              "      <td>-0.548460</td>\n",
              "      <td>3.896077</td>\n",
              "      <td>8.237946</td>\n",
              "      <td>9.543800</td>\n",
              "      <td>0.000000</td>\n",
              "      <td>0.000000</td>\n",
              "    </tr>\n",
              "    <tr>\n",
              "      <th>5938</th>\n",
              "      <td>0.39000</td>\n",
              "      <td>Active</td>\n",
              "      <td>C1=CC(=CC=C1CNC(=O)C2=C(C=C(N2)C3=CC=C(C=C3)F)...</td>\n",
              "      <td>4.67590</td>\n",
              "      <td>1282.239015</td>\n",
              "      <td>-4.30</td>\n",
              "      <td>23.371668</td>\n",
              "      <td>15.939892</td>\n",
              "      <td>447.441</td>\n",
              "      <td>33</td>\n",
              "      <td>...</td>\n",
              "      <td>26.742078</td>\n",
              "      <td>27.542879</td>\n",
              "      <td>11.512516</td>\n",
              "      <td>5.370498</td>\n",
              "      <td>-1.781492</td>\n",
              "      <td>19.758743</td>\n",
              "      <td>0.000000</td>\n",
              "      <td>0.188112</td>\n",
              "      <td>0.000000</td>\n",
              "      <td>0.000000</td>\n",
              "    </tr>\n",
              "  </tbody>\n",
              "</table>\n",
              "<p>500 rows × 28 columns</p>\n",
              "</div>\n",
              "      <button class=\"colab-df-convert\" onclick=\"convertToInteractive('df-7e7eabdd-75ea-4c9f-8a07-aeebfaa36973')\"\n",
              "              title=\"Convert this dataframe to an interactive table.\"\n",
              "              style=\"display:none;\">\n",
              "        \n",
              "  <svg xmlns=\"http://www.w3.org/2000/svg\" height=\"24px\"viewBox=\"0 0 24 24\"\n",
              "       width=\"24px\">\n",
              "    <path d=\"M0 0h24v24H0V0z\" fill=\"none\"/>\n",
              "    <path d=\"M18.56 5.44l.94 2.06.94-2.06 2.06-.94-2.06-.94-.94-2.06-.94 2.06-2.06.94zm-11 1L8.5 8.5l.94-2.06 2.06-.94-2.06-.94L8.5 2.5l-.94 2.06-2.06.94zm10 10l.94 2.06.94-2.06 2.06-.94-2.06-.94-.94-2.06-.94 2.06-2.06.94z\"/><path d=\"M17.41 7.96l-1.37-1.37c-.4-.4-.92-.59-1.43-.59-.52 0-1.04.2-1.43.59L10.3 9.45l-7.72 7.72c-.78.78-.78 2.05 0 2.83L4 21.41c.39.39.9.59 1.41.59.51 0 1.02-.2 1.41-.59l7.78-7.78 2.81-2.81c.8-.78.8-2.07 0-2.86zM5.41 20L4 18.59l7.72-7.72 1.47 1.35L5.41 20z\"/>\n",
              "  </svg>\n",
              "      </button>\n",
              "      \n",
              "  <style>\n",
              "    .colab-df-container {\n",
              "      display:flex;\n",
              "      flex-wrap:wrap;\n",
              "      gap: 12px;\n",
              "    }\n",
              "\n",
              "    .colab-df-convert {\n",
              "      background-color: #E8F0FE;\n",
              "      border: none;\n",
              "      border-radius: 50%;\n",
              "      cursor: pointer;\n",
              "      display: none;\n",
              "      fill: #1967D2;\n",
              "      height: 32px;\n",
              "      padding: 0 0 0 0;\n",
              "      width: 32px;\n",
              "    }\n",
              "\n",
              "    .colab-df-convert:hover {\n",
              "      background-color: #E2EBFA;\n",
              "      box-shadow: 0px 1px 2px rgba(60, 64, 67, 0.3), 0px 1px 3px 1px rgba(60, 64, 67, 0.15);\n",
              "      fill: #174EA6;\n",
              "    }\n",
              "\n",
              "    [theme=dark] .colab-df-convert {\n",
              "      background-color: #3B4455;\n",
              "      fill: #D2E3FC;\n",
              "    }\n",
              "\n",
              "    [theme=dark] .colab-df-convert:hover {\n",
              "      background-color: #434B5C;\n",
              "      box-shadow: 0px 1px 3px 1px rgba(0, 0, 0, 0.15);\n",
              "      filter: drop-shadow(0px 1px 2px rgba(0, 0, 0, 0.3));\n",
              "      fill: #FFFFFF;\n",
              "    }\n",
              "  </style>\n",
              "\n",
              "      <script>\n",
              "        const buttonEl =\n",
              "          document.querySelector('#df-7e7eabdd-75ea-4c9f-8a07-aeebfaa36973 button.colab-df-convert');\n",
              "        buttonEl.style.display =\n",
              "          google.colab.kernel.accessAllowed ? 'block' : 'none';\n",
              "\n",
              "        async function convertToInteractive(key) {\n",
              "          const element = document.querySelector('#df-7e7eabdd-75ea-4c9f-8a07-aeebfaa36973');\n",
              "          const dataTable =\n",
              "            await google.colab.kernel.invokeFunction('convertToInteractive',\n",
              "                                                     [key], {});\n",
              "          if (!dataTable) return;\n",
              "\n",
              "          const docLinkHtml = 'Like what you see? Visit the ' +\n",
              "            '<a target=\"_blank\" href=https://colab.research.google.com/notebooks/data_table.ipynb>data table notebook</a>'\n",
              "            + ' to learn more about interactive tables.';\n",
              "          element.innerHTML = '';\n",
              "          dataTable['output_type'] = 'display_data';\n",
              "          await google.colab.output.renderOutput(dataTable, element);\n",
              "          const docLink = document.createElement('div');\n",
              "          docLink.innerHTML = docLinkHtml;\n",
              "          element.appendChild(docLink);\n",
              "        }\n",
              "      </script>\n",
              "    </div>\n",
              "  </div>\n",
              "  "
            ]
          },
          "metadata": {},
          "execution_count": 44
        }
      ]
    },
    {
      "cell_type": "markdown",
      "source": [
        "Finalmente temos que fazer um passo de cura: a coluna activity tem os valores de 'active' e 'inactive', mas os nossos modelos apenas distinguem entre 0 e 1 (ou -1 e +1). Portanto, temos que converter os \"Active\" em 1 e os \"Inactive\" em 0."
      ],
      "metadata": {
        "id": "CkFBF-ZVAb9I"
      }
    },
    {
      "cell_type": "code",
      "source": [
        "data.loc[data['activity']=='Active','activity'] = 1\n",
        "data.loc[data['activity']=='Inactive','activity'] = 0\n",
        "# finalmente, temos que garantir que o computador considera estes 0's e 1's como números\n",
        "data['activity']=pd.to_numeric(data['activity'])\n"
      ],
      "metadata": {
        "id": "evvlKAFFBAMO"
      },
      "execution_count": 60,
      "outputs": []
    },
    {
      "cell_type": "markdown",
      "source": [
        "## Passo 3: Divisão dos dados em treino e teste\n",
        "\n",
        "O pacote `sklearn` tem uma função adequada para fazer a divisão dos dados. Neste caso, queremos que 60% dos dados sejam usados para o treino e os restantes 40% para o teste (outros racios comuns são 65:35 e 70:30). No exemplo abaixo pedimos para estratificar os dados por actividade, ou seja, pedimos à função que garanta que os conjuntos de treino e de teste tenham a mesma porpoção de casos positivos e negativos."
      ],
      "metadata": {
        "id": "-6o00gSa_8OJ"
      }
    },
    {
      "cell_type": "code",
      "source": [
        "treino, teste = model_selection.train_test_split(data,train_size=0.60,stratify=data['activity'])"
      ],
      "metadata": {
        "id": "a1GPDZWYs1m0"
      },
      "execution_count": 65,
      "outputs": []
    },
    {
      "cell_type": "markdown",
      "source": [
        "## Passo 4: Modelo de Regressão linear\n",
        "\n",
        "Este é o modelo mais básico de QSAR, que tenta expressar o valor da actividade como uma combinação linear dos diferentes descritores."
      ],
      "metadata": {
        "id": "FMLymmiUB2M3"
      }
    },
    {
      "cell_type": "code",
      "source": [
        "# Primeiro definimos a lista de nomes dos descritores e do target\n",
        "x_names = list(descriptor_d.keys())\n",
        "y_name = ['acvalue']\n",
        "\n",
        "# Depois definimos os valores de treino e de teste\n",
        "x_train = treino[x_names]\n",
        "y_train = treino[y_name]\n",
        "\n",
        "x_test = teste[x_names]\n",
        "y_test = teste[y_name]\n",
        "\n",
        "# Estes 4 conjuntos (x_train, y_train, x_test, y_test podem ser usado com qualquer modelo de regressão)"
      ],
      "metadata": {
        "id": "QWCiR7HnCIF2"
      },
      "execution_count": 21,
      "outputs": []
    },
    {
      "cell_type": "code",
      "source": [
        "# Agora criamos o modelo\n",
        "\n",
        "model = linear_model.LinearRegression(fit_intercept=True)\n",
        "\n",
        "# treinamos o modelo com os dados de treino usando o método fit()\n",
        "model.fit(x_train,y_train)\n",
        "\n",
        "# calculamos e imprimimos a métrica por defeito do modelo para o conjunto de treino e teste\n",
        "rsq_train = model.score(x_train,y_train)\n",
        "rsq_test = model.score(x_test,y_test)\n",
        "\n",
        "print(f\"O r^2 no conjunto de treino é de {rsq_train:6.4f}\")\n",
        "print(f\"O r^2 no conjunto de teste é de  {rsq_train:6.4f}\")"
      ],
      "metadata": {
        "colab": {
          "base_uri": "https://localhost:8080/"
        },
        "id": "-workXDFCvOd",
        "outputId": "a45c8e5d-dcdb-4d61-f6e3-416dc219100e"
      },
      "execution_count": 29,
      "outputs": [
        {
          "output_type": "stream",
          "name": "stdout",
          "text": [
            "O r^2 no conjunto de treino é de 0.1892\n",
            "O r^2 no conjunto de teste é de  0.1892\n"
          ]
        }
      ]
    },
    {
      "cell_type": "markdown",
      "source": [
        "Podemos também fazer uma representação gráfica da precisão do modelo (_fitness plot_)"
      ],
      "metadata": {
        "id": "Qy32foMsFNd1"
      }
    },
    {
      "cell_type": "code",
      "source": [
        "make_fitness_plot(model, x_train, y_train, x_test, y_test)"
      ],
      "metadata": {
        "colab": {
          "base_uri": "https://localhost:8080/",
          "height": 279
        },
        "id": "Zps7YSmsHdrV",
        "outputId": "8cc3426f-c1e6-4efa-a61f-e103e4f45b9b"
      },
      "execution_count": 34,
      "outputs": [
        {
          "output_type": "display_data",
          "data": {
            "text/plain": [
              "<Figure size 432x288 with 1 Axes>"
            ],
            "image/png": "[encoded data removed]"
          },
          "metadata": {
            "needs_background": "light"
          }
        }
      ]
    },
    {
      "cell_type": "markdown",
      "source": [
        "Em geral, o método de regressão linear funciona bem quando tempos\n",
        "1. muitos descritores\n",
        "1. o conjunto contém moléculas estruturalmente próximas\n",
        "\n",
        "Mas podemos melhorar a performance criando novos descritores que são multiplicação de dois descritores existentes."
      ],
      "metadata": {
        "id": "zSHaWmc9DxfU"
      }
    },
    {
      "cell_type": "code",
      "source": [
        "poly_maker = preprocessing.PolynomialFeatures(degree=2)\n",
        "\n",
        "# podemos re-utilizar a maior parte da receita acima\n",
        "x_train_p = poly_maker.fit_transform(x_train)\n",
        "x_test_p = poly_maker.fit_transform(x_test)\n",
        "\n",
        "model = linear_model.LinearRegression(fit_intercept=True)\n",
        "model.fit(x_train_p,y_train)\n",
        "\n",
        "rsq_train = model.score(x_train_p,y_train)\n",
        "rsq_test = model.score(x_test_p,y_test)\n",
        "\n",
        "print(f\"O r^2 no conjunto de treino é de {rsq_train:6.4f}\")\n",
        "print(f\"O r^2 no conjunto de teste é de  {rsq_train:6.4f}\")"
      ],
      "metadata": {
        "colab": {
          "base_uri": "https://localhost:8080/"
        },
        "id": "nDNA64STDgxD",
        "outputId": "926712ae-f206-4e8f-a087-d27a341cbe0b"
      },
      "execution_count": 35,
      "outputs": [
        {
          "output_type": "stream",
          "name": "stdout",
          "text": [
            "O r^2 no conjunto de treino é de 0.9999\n",
            "O r^2 no conjunto de teste é de  0.9999\n"
          ]
        }
      ]
    },
    {
      "cell_type": "code",
      "source": [
        "# agora, para visualizar o fitness plot\n",
        "make_fitness_plot(model, x_train_p, y_train, x_test_p, y_test)"
      ],
      "metadata": {
        "colab": {
          "base_uri": "https://localhost:8080/",
          "height": 290
        },
        "id": "Vv7s5izWIHIU",
        "outputId": "35ef260d-c781-4dee-d6c8-20394cac62b5"
      },
      "execution_count": 36,
      "outputs": [
        {
          "output_type": "display_data",
          "data": {
            "text/plain": [
              "<Figure size 432x288 with 1 Axes>"
            ],
            "image/png": "[encoded data removed]"
          },
          "metadata": {
            "needs_background": "light"
          }
        }
      ]
    },
    {
      "cell_type": "markdown",
      "source": [
        "Como podemos ver, o modelo linear continua a ser mau, mas temos um pequeno conjunto de pontos com um erro tão grande, que cria uma situação em que a métrica do $r^2$ dá bons valores para um mau modelo. Nestes casos, o modelo deveria ser treinado com uma métrica diferente."
      ],
      "metadata": {
        "id": "3pR3FJO6ISQf"
      }
    },
    {
      "cell_type": "markdown",
      "source": [
        "## Passo 5: Modelo Classificador (Regressão Logística)\n",
        "\n",
        "Para fazer um modelo classificador, podemos re-utilizar o mesmo x_train e x_test do modelo regressor, mas o nosso y_train e y_test agora tem que conter a variável activity, em vez de acvalue."
      ],
      "metadata": {
        "id": "fktCBi0vFDuh"
      }
    },
    {
      "cell_type": "code",
      "source": [
        "# Primeiro definimos a lista de nomes dos descritores e do target\n",
        "x_names = list(descriptor_d.keys())\n",
        "y_name = ['activity']\n",
        "\n",
        "# Depois definimos os valores de treino e de teste\n",
        "x_train = treino[x_names]\n",
        "y_train = treino[y_name]\n",
        "\n",
        "x_test = teste[x_names]\n",
        "y_test = teste[y_name]\n",
        "\n",
        "# Estes 4 conjuntos (x_train, y_train, x_test, y_test podem ser usado com qualquer modelo de classificação)"
      ],
      "metadata": {
        "id": "_lhfwgKKE7ia"
      },
      "execution_count": 66,
      "outputs": []
    },
    {
      "cell_type": "code",
      "source": [
        "# Criamos o modelo classificador\n",
        "clf = linear_model.LogisticRegression(max_iter=10_000)\n",
        "\n",
        "# Fazemos treino do modelo\n",
        "clf.fit(x_train,y_train)\n",
        "\n",
        "train_score = clf.score(x_train,y_train)\n",
        "test_score = clf.score(x_test,y_test)\n",
        "\n",
        "print(f\"Score do conjunto de treino: {train_score}\")\n",
        "print(f\"Score do conjunto de teste:  {test_score}\")"
      ],
      "metadata": {
        "colab": {
          "base_uri": "https://localhost:8080/"
        },
        "id": "sm_tj6l7JAyj",
        "outputId": "bede49c0-5ee5-47e1-cc1e-f21979dc16dc"
      },
      "execution_count": 68,
      "outputs": [
        {
          "output_type": "stream",
          "name": "stderr",
          "text": [
            "/usr/local/lib/python3.7/dist-packages/sklearn/utils/validation.py:993: DataConversionWarning: A column-vector y was passed when a 1d array was expected. Please change the shape of y to (n_samples, ), for example using ravel().\n",
            "  y = column_or_1d(y, warn=True)\n"
          ]
        },
        {
          "output_type": "stream",
          "name": "stdout",
          "text": [
            "Score do conjunto de treino: 0.9566666666666667\n",
            "Score do conjunto de teste:  0.935\n"
          ]
        }
      ]
    },
    {
      "cell_type": "markdown",
      "source": [
        "Os scores são muito promissores. Vamos ver a matris de confusão."
      ],
      "metadata": {
        "id": "jL-bi9CpPQMK"
      }
    },
    {
      "cell_type": "code",
      "source": [
        "metrics.ConfusionMatrixDisplay.from_estimator(clf,pd.concat([x_train,x_test]),pd.concat([y_train,y_test]))"
      ],
      "metadata": {
        "colab": {
          "base_uri": "https://localhost:8080/",
          "height": 297
        },
        "id": "FN2VCgigJnY6",
        "outputId": "4cc036db-5942-4993-dd47-bdb39cd783af"
      },
      "execution_count": 69,
      "outputs": [
        {
          "output_type": "execute_result",
          "data": {
            "text/plain": [
              "<sklearn.metrics._plot.confusion_matrix.ConfusionMatrixDisplay at 0x7f2028e63d10>"
            ]
          },
          "metadata": {},
          "execution_count": 69
        },
        {
          "output_type": "display_data",
          "data": {
            "text/plain": [
              "<Figure size 432x288 with 2 Axes>"
            ],
            "image/png": "[encoded data removed]"
          },
          "metadata": {
            "needs_background": "light"
          }
        }
      ]
    },
    {
      "cell_type": "code",
      "source": [
        ""
      ],
      "metadata": {
        "id": "K8mAKRUrP16C"
      },
      "execution_count": null,
      "outputs": []
    }
  ]
}