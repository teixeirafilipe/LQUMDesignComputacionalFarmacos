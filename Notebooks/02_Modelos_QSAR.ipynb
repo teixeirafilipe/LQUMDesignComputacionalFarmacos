{
  "nbformat": 4,
  "nbformat_minor": 0,
  "metadata": {
    "colab": {
      "name": "02-Modelos_QSAR",
      "provenance": [],
      "collapsed_sections": []
    },
    "kernelspec": {
      "name": "python3",
      "display_name": "Python 3"
    },
    "language_info": {
      "name": "python"
    }
  },
  "cells": [
    {
      "cell_type": "markdown",
      "source": [
        "# Modelos de QSAR\n",
        "\n",
        "Os modelos QSAR tentam prever a actividade biológica de uma série de compostos a partir da sua estrutura. Estes modelos podem ser quantitativos (regressores) ou quaitativos (classificadores). No caso dos modelos regressores, tenta-se chegar a um valor aproximado da actividade biológica, ao passo que os classificadores apenas permitem obter uma previsão binária (positivo/negativo) relativamente à actividade.\n",
        "\n",
        "Em ambos os casos, o procedimento de estudo passa pelos seguintes passos:\n",
        "1. Recolha dos dados de actividade biológica\n",
        "1. Recolha dos descritores moleculares\n",
        "1. Cura dos dados\n",
        "1. Divisão dos dados entre conjunto de treino e conjunto de teste\n",
        "1. Treino do modelo QSAR\n",
        "1. Validação do modelo usando os dados de teste\n",
        "1. Aplicação do modelo aos nossos compostos-problema (para os quais ainda não há informação)\n",
        "\n",
        "Neste notebook iremos recolher manualmente os dados de actividade a partir do PubChem (Passo 1). Depois os dados serão carregados no notebook (atraves de um ficheiro CSV) e vamos usar a API do PubChem para obter a representação SMILES de cada composto na base de dados (Passo 2a). Os descritores serão então calculados usandoo RDKIT (Passo 2b). Após a divisão dos dados em conjuntos de treino e teste (Passo 3) iremos treinar e validar dois modelos QSAR: um regressor e um classificador. Cada um desses modelos será analisado nas suas características e métricas, e finalmente aplicamos cada um desses modelos a um conjnto de quatro moléculas-problema.\n",
        "\n",
        "Este tutorial está escrito de forma a que possa ser aplicado a outros conjuntos de dados com alteração mínima (preferencialmente nenhuma) do código python."
      ],
      "metadata": {
        "id": "nwBMDhX2LF1F"
      }
    },
    {
      "cell_type": "markdown",
      "source": [
        "## Setup\n",
        "\n",
        "Esta secção tem as definições de funções necessárias para correr as aplicações de química/design de fármacos."
      ],
      "metadata": {
        "id": "jKpe-kWfBWrf"
      }
    },
    {
      "cell_type": "code",
      "source": [
        "%%capture\n",
        "! pip install ase\n",
        "! pip install py3Dmol\n",
        "! pip install seaborn\n",
        "! pip install pubchempy\n",
        "\n",
        "\n",
        "\n",
        "!wget -c https://repo.continuum.io/miniconda/Miniconda3-py37_4.8.3-Linux-x86_64.sh\n",
        "!chmod +x Miniconda3-py37_4.8.3-Linux-x86_64.sh\n",
        "!time bash ./Miniconda3-py37_4.8.3-Linux-x86_64.sh -b -f -p /usr/local\n",
        "!time conda install -y -c rdkit rdkit \n",
        "!time conda install -y -c conda-forge openbabel\n",
        "#!time conda install -y gxx_linux-64\n",
        "#!time conda install -q -y -c conda-forge rdkit\n",
        "#time conda install  -y -c conda-forge xtb\n",
        "\n",
        "#wget -c https://repo.continuum.io/miniconda/Miniconda3-latest-Linux-x86_64.sh\n",
        "#chmod +x Miniconda3-latest-Linux-x86_64.sh\n",
        "#bash ./Miniconda3-latest-Linux-x86_64.sh -b -f -p /usr/local\n",
        "#conda install  -y -c conda-forge python\n",
        "#conda install  -y -c conda-forge rdkit\n",
        "#conda install  -y -c conda-forge xtb\n",
        "#pip install --user py3Dmol\n",
        "#pip install --user seaborn\n",
        "\n",
        "# install XTB\n",
        "#wget -c https://github.com/grimme-lab/xtb/releases/download/v6.4.0/xtb-210201.tar.xz\n",
        "#tar xf xtb-210201.tar.xz\n",
        "#export PATH=/content/xtb-6.4.0/bin:${PATH}\n",
        "#cd ..\n",
        "\n"
      ],
      "metadata": {
        "id": "ew7dz5X1B4hR"
      },
      "execution_count": 1,
      "outputs": []
    },
    {
      "cell_type": "code",
      "source": [
        "import sys\n",
        "site_pkg_path='/usr/local/lib/python3.7/site-packages'\n",
        "if site_pkg_path not in sys.path:\n",
        "  sys.path.append(site_pkg_path)\n",
        "import os\n",
        "\n",
        "import numpy as np\n",
        "import pandas as pd\n",
        "\n",
        "from sklearn import compose\n",
        "from sklearn import metrics\n",
        "from sklearn import preprocessing\n",
        "from sklearn import linear_model\n",
        "from sklearn import pipeline\n",
        "from sklearn import model_selection\n",
        "\n",
        "import time\n",
        "#import ase\n",
        "import pubchempy\n",
        "from collections import defaultdict\n",
        "from rdkit import Chem\n",
        "from rdkit.Chem import AllChem\n",
        "from rdkit.Chem import Descriptors\n",
        "from rdkit.Chem import rdMolDescriptors\n",
        "from rdkit.Chem import rdFMCS\n",
        "from rdkit.Chem import Draw\n",
        "from rdkit.Chem.Draw import IPythonConsole\n",
        "from rdkit.Chem import rdDistGeom\n",
        "IPythonConsole.ipython_3d = True\n",
        "\n",
        "import py3Dmol\n",
        "import matplotlib.pyplot as plt\n",
        "import subprocess\n",
        "import seaborn as sb\n",
        "\n",
        "## FUNÇÕES ADMINISTRATIVAS ##\n",
        "\n",
        "def shell(cmd, shell=True):\n",
        "  \"runs a command in the linux shell, adapted from Jimmy Kromann.\"\n",
        "  if shell:\n",
        "    p = subprocess.Popen(cmd, shell=True, stdin=subprocess.PIPE, stdout=subprocess.PIPE, stderr=subprocess.PIPE)\n",
        "  else:\n",
        "    p = subprocess.Popen(cmd, shell=True, stdin=subprocess.PIPE, stdout=subprocess.PIPE, stderr=subprocess.PIPE)\n",
        "  output, err = p.communicate()\n",
        "  return output\n",
        "\n",
        "def run_xtb(args):\n",
        "  return shell(f\"/content/xtb-6.4.0/bin/xtb {args}\")\n",
        "\n",
        "def get_snapshot(dirname='/content/work_dir',fn=None):\n",
        "  \"Downloads work_dir as a tbz file for archive.\"\n",
        "  from google.colab import files\n",
        "  import os\n",
        "  import time\n",
        "  origin = os.path.abspath(os.curdir)\n",
        "  now=time.localtime()\n",
        "  date_str=f\"{now[0]-2000:02d}{now[1]:02d}{now[2]:02d}-{now[3]:02d}{now[4]:02d}\"\n",
        "  ofn = fn if fn else f\"{date_str}-{os.path.split(dirname)[-1]}.zip\"\n",
        "  os.chdir(dirname)\n",
        "  os.chdir('..')\n",
        "  shell(f\"zip -r {ofn} ./{os.path.split(dirname)[-1]}\")\n",
        "  files.download(ofn)\n",
        "  os.chdir(origin)\n",
        "  print(f\"O ficheiro {ofn} está pronto para download...\")\n",
        "\n",
        "## Funções gráficas ##\n",
        "\n",
        "def make_fitness_plot(model, x_train, y_train, x_test, y_test, y_name='Property'):\n",
        "  y_train_pred = model.predict(x_train)\n",
        "  y_test_pred = model.predict(x_test)\n",
        "  fig = plt.figure()\n",
        "  ax = fig.add_subplot(1,1,1)\n",
        "  l_train = ax.scatter(y_train,y_train_pred)\n",
        "  l_test = ax.scatter(y_test,y_test_pred)\n",
        "  y_full=np.concatenate((y_test,y_train))\n",
        "  l3 = ax.plot(y_full,y_full)\n",
        "  ax.set_xlabel(f\"{y_name} (Original)\")\n",
        "  ax.set_ylabel(f\"{y_name} (Predicted)\")\n",
        "  l = ax.legend([l_train,l_test],['Train data','Test data'])\n",
        "  plt.show()\n",
        "\n",
        "\n",
        "# Criar a work_dir e mudar para lá\n",
        "os.chdir('/content/')\n",
        "try:\n",
        "  os.mkdir('work_dir')\n",
        "except:\n",
        "  print(\"Pasta 'work_dir' já existe.\")\n",
        "  \n",
        "os.chdir('/content/work_dir')\n"
      ],
      "metadata": {
        "id": "-i4wByWRCJnJ"
      },
      "execution_count": 2,
      "outputs": []
    },
    {
      "cell_type": "markdown",
      "source": [
        "## Passo 1: Recolher os Dados de Actividade do PubChem \n",
        "\n",
        "O primeiro passo num estudo de QSAR é a recolha e cura dos dados. Neste exemplo, usamos os dados de actividade para a Histona De-acetilase (HDAC5), os quais podem ser obtidos seguindo os seguintes passos: \n",
        "1. Ir a https://pubchem.ncbi.nlm.nih.gov, e pesquisar pelo nosso alvo terapêutico (\"HDAC5 - histone deacetylase 5 (human)\").\n",
        "1. Entrar na página da HDAC5 na PubChem e ir à secção 4: *Chemicals and Bioactivities*.\n",
        "1. Fazer download da tebela, em formato CSV. \n",
        "1. Abrir o ficheiro CSV no MS Excel, LibreOffice Calc ou semelhante. Para este exemplo apenas nos interessam as colunas activity (tem ou não actividade), cid (identificação do composto na PubChem) e acvalue (valor da actividade), pelo que podemos eliminar as restantes colunas.\n",
        "1. Gravamos os dados como ficheiro CSV (neste notebook usaremos o nome \"aula_dcf_dados_filtrados.csv\".\n",
        "1. Finalmente, fazemos upload do ficheiro CSV para a pasta 'work_dir' deste notebook.\n",
        "\n",
        "Tanto o CSV recolhido directamente da PubChem como os dados filtrados podem ser obtidos em https://github.com/teixeirafilipe/LQUMDesignComputacionalFarmacos/tree/main/Notebooks"
      ],
      "metadata": {
        "id": "jTXfqKs2Xwj1"
      }
    },
    {
      "cell_type": "code",
      "source": [
        "from google.colab import files\n",
        "\n",
        "uploaded = files.upload()\n"
      ],
      "metadata": {
        "colab": {
          "resources": {
            "http://localhost:8080/nbextensions/google.colab/files.js": {
              "data": "Ly8gQ29weXJpZ2h0IDIwMTcgR29vZ2xlIExMQwovLwovLyBMaWNlbnNlZCB1bmRlciB0aGUgQXBhY2hlIExpY2Vuc2UsIFZlcnNpb24gMi4wICh0aGUgIkxpY2Vuc2UiKTsKLy8geW91IG1heSBub3QgdXNlIHRoaXMgZmlsZSBleGNlcHQgaW4gY29tcGxpYW5jZSB3aXRoIHRoZSBMaWNlbnNlLgovLyBZb3UgbWF5IG9idGFpbiBhIGNvcHkgb2YgdGhlIExpY2Vuc2UgYXQKLy8KLy8gICAgICBodHRwOi8vd3d3LmFwYWNoZS5vcmcvbGljZW5zZXMvTElDRU5TRS0yLjAKLy8KLy8gVW5sZXNzIHJlcXVpcmVkIGJ5IGFwcGxpY2FibGUgbGF3IG9yIGFncmVlZCB0byBpbiB3cml0aW5nLCBzb2Z0d2FyZQovLyBkaXN0cmlidXRlZCB1bmRlciB0aGUgTGljZW5zZSBpcyBkaXN0cmlidXRlZCBvbiBhbiAiQVMgSVMiIEJBU0lTLAovLyBXSVRIT1VUIFdBUlJBTlRJRVMgT1IgQ09ORElUSU9OUyBPRiBBTlkgS0lORCwgZWl0aGVyIGV4cHJlc3Mgb3IgaW1wbGllZC4KLy8gU2VlIHRoZSBMaWNlbnNlIGZvciB0aGUgc3BlY2lmaWMgbGFuZ3VhZ2UgZ292ZXJuaW5nIHBlcm1pc3Npb25zIGFuZAovLyBsaW1pdGF0aW9ucyB1bmRlciB0aGUgTGljZW5zZS4KCi8qKgogKiBAZmlsZW92ZXJ2aWV3IEhlbHBlcnMgZm9yIGdvb2dsZS5jb2xhYiBQeXRob24gbW9kdWxlLgogKi8KKGZ1bmN0aW9uKHNjb3BlKSB7CmZ1bmN0aW9uIHNwYW4odGV4dCwgc3R5bGVBdHRyaWJ1dGVzID0ge30pIHsKICBjb25zdCBlbGVtZW50ID0gZG9jdW1lbnQuY3JlYXRlRWxlbWVudCgnc3BhbicpOwogIGVsZW1lbnQudGV4dENvbnRlbnQgPSB0ZXh0OwogIGZvciAoY29uc3Qga2V5IG9mIE9iamVjdC5rZXlzKHN0eWxlQXR0cmlidXRlcykpIHsKICAgIGVsZW1lbnQuc3R5bGVba2V5XSA9IHN0eWxlQXR0cmlidXRlc1trZXldOwogIH0KICByZXR1cm4gZWxlbWVudDsKfQoKLy8gTWF4IG51bWJlciBvZiBieXRlcyB3aGljaCB3aWxsIGJlIHVwbG9hZGVkIGF0IGEgdGltZS4KY29uc3QgTUFYX1BBWUxPQURfU0laRSA9IDEwMCAqIDEwMjQ7CgpmdW5jdGlvbiBfdXBsb2FkRmlsZXMoaW5wdXRJZCwgb3V0cHV0SWQpIHsKICBjb25zdCBzdGVwcyA9IHVwbG9hZEZpbGVzU3RlcChpbnB1dElkLCBvdXRwdXRJZCk7CiAgY29uc3Qgb3V0cHV0RWxlbWVudCA9IGRvY3VtZW50LmdldEVsZW1lbnRCeUlkKG91dHB1dElkKTsKICAvLyBDYWNoZSBzdGVwcyBvbiB0aGUgb3V0cHV0RWxlbWVudCB0byBtYWtlIGl0IGF2YWlsYWJsZSBmb3IgdGhlIG5leHQgY2FsbAogIC8vIHRvIHVwbG9hZEZpbGVzQ29udGludWUgZnJvbSBQeXRob24uCiAgb3V0cHV0RWxlbWVudC5zdGVwcyA9IHN0ZXBzOwoKICByZXR1cm4gX3VwbG9hZEZpbGVzQ29udGludWUob3V0cHV0SWQpOwp9CgovLyBUaGlzIGlzIHJvdWdobHkgYW4gYXN5bmMgZ2VuZXJhdG9yIChub3Qgc3VwcG9ydGVkIGluIHRoZSBicm93c2VyIHlldCksCi8vIHdoZXJlIHRoZXJlIGFyZSBtdWx0aXBsZSBhc3luY2hyb25vdXMgc3RlcHMgYW5kIHRoZSBQeXRob24gc2lkZSBpcyBnb2luZwovLyB0byBwb2xsIGZvciBjb21wbGV0aW9uIG9mIGVhY2ggc3RlcC4KLy8gVGhpcyB1c2VzIGEgUHJvbWlzZSB0byBibG9jayB0aGUgcHl0aG9uIHNpZGUgb24gY29tcGxldGlvbiBvZiBlYWNoIHN0ZXAsCi8vIHRoZW4gcGFzc2VzIHRoZSByZXN1bHQgb2YgdGhlIHByZXZpb3VzIHN0ZXAgYXMgdGhlIGlucHV0IHRvIHRoZSBuZXh0IHN0ZXAuCmZ1bmN0aW9uIF91cGxvYWRGaWxlc0NvbnRpbnVlKG91dHB1dElkKSB7CiAgY29uc3Qgb3V0cHV0RWxlbWVudCA9IGRvY3VtZW50LmdldEVsZW1lbnRCeUlkKG91dHB1dElkKTsKICBjb25zdCBzdGVwcyA9IG91dHB1dEVsZW1lbnQuc3RlcHM7CgogIGNvbnN0IG5leHQgPSBzdGVwcy5uZXh0KG91dHB1dEVsZW1lbnQubGFzdFByb21pc2VWYWx1ZSk7CiAgcmV0dXJuIFByb21pc2UucmVzb2x2ZShuZXh0LnZhbHVlLnByb21pc2UpLnRoZW4oKHZhbHVlKSA9PiB7CiAgICAvLyBDYWNoZSB0aGUgbGFzdCBwcm9taXNlIHZhbHVlIHRvIG1ha2UgaXQgYXZhaWxhYmxlIHRvIHRoZSBuZXh0CiAgICAvLyBzdGVwIG9mIHRoZSBnZW5lcmF0b3IuCiAgICBvdXRwdXRFbGVtZW50Lmxhc3RQcm9taXNlVmFsdWUgPSB2YWx1ZTsKICAgIHJldHVybiBuZXh0LnZhbHVlLnJlc3BvbnNlOwogIH0pOwp9CgovKioKICogR2VuZXJhdG9yIGZ1bmN0aW9uIHdoaWNoIGlzIGNhbGxlZCBiZXR3ZWVuIGVhY2ggYXN5bmMgc3RlcCBvZiB0aGUgdXBsb2FkCiAqIHByb2Nlc3MuCiAqIEBwYXJhbSB7c3RyaW5nfSBpbnB1dElkIEVsZW1lbnQgSUQgb2YgdGhlIGlucHV0IGZpbGUgcGlja2VyIGVsZW1lbnQuCiAqIEBwYXJhbSB7c3RyaW5nfSBvdXRwdXRJZCBFbGVtZW50IElEIG9mIHRoZSBvdXRwdXQgZGlzcGxheS4KICogQHJldHVybiB7IUl0ZXJhYmxlPCFPYmplY3Q+fSBJdGVyYWJsZSBvZiBuZXh0IHN0ZXBzLgogKi8KZnVuY3Rpb24qIHVwbG9hZEZpbGVzU3RlcChpbnB1dElkLCBvdXRwdXRJZCkgewogIGNvbnN0IGlucHV0RWxlbWVudCA9IGRvY3VtZW50LmdldEVsZW1lbnRCeUlkKGlucHV0SWQpOwogIGlucHV0RWxlbWVudC5kaXNhYmxlZCA9IGZhbHNlOwoKICBjb25zdCBvdXRwdXRFbGVtZW50ID0gZG9jdW1lbnQuZ2V0RWxlbWVudEJ5SWQob3V0cHV0SWQpOwogIG91dHB1dEVsZW1lbnQuaW5uZXJIVE1MID0gJyc7CgogIGNvbnN0IHBpY2tlZFByb21pc2UgPSBuZXcgUHJvbWlzZSgocmVzb2x2ZSkgPT4gewogICAgaW5wdXRFbGVtZW50LmFkZEV2ZW50TGlzdGVuZXIoJ2NoYW5nZScsIChlKSA9PiB7CiAgICAgIHJlc29sdmUoZS50YXJnZXQuZmlsZXMpOwogICAgfSk7CiAgfSk7CgogIGNvbnN0IGNhbmNlbCA9IGRvY3VtZW50LmNyZWF0ZUVsZW1lbnQoJ2J1dHRvbicpOwogIGlucHV0RWxlbWVudC5wYXJlbnRFbGVtZW50LmFwcGVuZENoaWxkKGNhbmNlbCk7CiAgY2FuY2VsLnRleHRDb250ZW50ID0gJ0NhbmNlbCB1cGxvYWQnOwogIGNvbnN0IGNhbmNlbFByb21pc2UgPSBuZXcgUHJvbWlzZSgocmVzb2x2ZSkgPT4gewogICAgY2FuY2VsLm9uY2xpY2sgPSAoKSA9PiB7CiAgICAgIHJlc29sdmUobnVsbCk7CiAgICB9OwogIH0pOwoKICAvLyBXYWl0IGZvciB0aGUgdXNlciB0byBwaWNrIHRoZSBmaWxlcy4KICBjb25zdCBmaWxlcyA9IHlpZWxkIHsKICAgIHByb21pc2U6IFByb21pc2UucmFjZShbcGlja2VkUHJvbWlzZSwgY2FuY2VsUHJvbWlzZV0pLAogICAgcmVzcG9uc2U6IHsKICAgICAgYWN0aW9uOiAnc3RhcnRpbmcnLAogICAgfQogIH07CgogIGNhbmNlbC5yZW1vdmUoKTsKCiAgLy8gRGlzYWJsZSB0aGUgaW5wdXQgZWxlbWVudCBzaW5jZSBmdXJ0aGVyIHBpY2tzIGFyZSBub3QgYWxsb3dlZC4KICBpbnB1dEVsZW1lbnQuZGlzYWJsZWQgPSB0cnVlOwoKICBpZiAoIWZpbGVzKSB7CiAgICByZXR1cm4gewogICAgICByZXNwb25zZTogewogICAgICAgIGFjdGlvbjogJ2NvbXBsZXRlJywKICAgICAgfQogICAgfTsKICB9CgogIGZvciAoY29uc3QgZmlsZSBvZiBmaWxlcykgewogICAgY29uc3QgbGkgPSBkb2N1bWVudC5jcmVhdGVFbGVtZW50KCdsaScpOwogICAgbGkuYXBwZW5kKHNwYW4oZmlsZS5uYW1lLCB7Zm9udFdlaWdodDogJ2JvbGQnfSkpOwogICAgbGkuYXBwZW5kKHNwYW4oCiAgICAgICAgYCgke2ZpbGUudHlwZSB8fCAnbi9hJ30pIC0gJHtmaWxlLnNpemV9IGJ5dGVzLCBgICsKICAgICAgICBgbGFzdCBtb2RpZmllZDogJHsKICAgICAgICAgICAgZmlsZS5sYXN0TW9kaWZpZWREYXRlID8gZmlsZS5sYXN0TW9kaWZpZWREYXRlLnRvTG9jYWxlRGF0ZVN0cmluZygpIDoKICAgICAgICAgICAgICAgICAgICAgICAgICAgICAgICAgICAgJ24vYSd9IC0gYCkpOwogICAgY29uc3QgcGVyY2VudCA9IHNwYW4oJzAlIGRvbmUnKTsKICAgIGxpLmFwcGVuZENoaWxkKHBlcmNlbnQpOwoKICAgIG91dHB1dEVsZW1lbnQuYXBwZW5kQ2hpbGQobGkpOwoKICAgIGNvbnN0IGZpbGVEYXRhUHJvbWlzZSA9IG5ldyBQcm9taXNlKChyZXNvbHZlKSA9PiB7CiAgICAgIGNvbnN0IHJlYWRlciA9IG5ldyBGaWxlUmVhZGVyKCk7CiAgICAgIHJlYWRlci5vbmxvYWQgPSAoZSkgPT4gewogICAgICAgIHJlc29sdmUoZS50YXJnZXQucmVzdWx0KTsKICAgICAgfTsKICAgICAgcmVhZGVyLnJlYWRBc0FycmF5QnVmZmVyKGZpbGUpOwogICAgfSk7CiAgICAvLyBXYWl0IGZvciB0aGUgZGF0YSB0byBiZSByZWFkeS4KICAgIGxldCBmaWxlRGF0YSA9IHlpZWxkIHsKICAgICAgcHJvbWlzZTogZmlsZURhdGFQcm9taXNlLAogICAgICByZXNwb25zZTogewogICAgICAgIGFjdGlvbjogJ2NvbnRpbnVlJywKICAgICAgfQogICAgfTsKCiAgICAvLyBVc2UgYSBjaHVua2VkIHNlbmRpbmcgdG8gYXZvaWQgbWVzc2FnZSBzaXplIGxpbWl0cy4gU2VlIGIvNjIxMTU2NjAuCiAgICBsZXQgcG9zaXRpb24gPSAwOwogICAgZG8gewogICAgICBjb25zdCBsZW5ndGggPSBNYXRoLm1pbihmaWxlRGF0YS5ieXRlTGVuZ3RoIC0gcG9zaXRpb24sIE1BWF9QQVlMT0FEX1NJWkUpOwogICAgICBjb25zdCBjaHVuayA9IG5ldyBVaW50OEFycmF5KGZpbGVEYXRhLCBwb3NpdGlvbiwgbGVuZ3RoKTsKICAgICAgcG9zaXRpb24gKz0gbGVuZ3RoOwoKICAgICAgY29uc3QgYmFzZTY0ID0gYnRvYShTdHJpbmcuZnJvbUNoYXJDb2RlLmFwcGx5KG51bGwsIGNodW5rKSk7CiAgICAgIHlpZWxkIHsKICAgICAgICByZXNwb25zZTogewogICAgICAgICAgYWN0aW9uOiAnYXBwZW5kJywKICAgICAgICAgIGZpbGU6IGZpbGUubmFtZSwKICAgICAgICAgIGRhdGE6IGJhc2U2NCwKICAgICAgICB9LAogICAgICB9OwoKICAgICAgbGV0IHBlcmNlbnREb25lID0gZmlsZURhdGEuYnl0ZUxlbmd0aCA9PT0gMCA/CiAgICAgICAgICAxMDAgOgogICAgICAgICAgTWF0aC5yb3VuZCgocG9zaXRpb24gLyBmaWxlRGF0YS5ieXRlTGVuZ3RoKSAqIDEwMCk7CiAgICAgIHBlcmNlbnQudGV4dENvbnRlbnQgPSBgJHtwZXJjZW50RG9uZX0lIGRvbmVgOwoKICAgIH0gd2hpbGUgKHBvc2l0aW9uIDwgZmlsZURhdGEuYnl0ZUxlbmd0aCk7CiAgfQoKICAvLyBBbGwgZG9uZS4KICB5aWVsZCB7CiAgICByZXNwb25zZTogewogICAgICBhY3Rpb246ICdjb21wbGV0ZScsCiAgICB9CiAgfTsKfQoKc2NvcGUuZ29vZ2xlID0gc2NvcGUuZ29vZ2xlIHx8IHt9OwpzY29wZS5nb29nbGUuY29sYWIgPSBzY29wZS5nb29nbGUuY29sYWIgfHwge307CnNjb3BlLmdvb2dsZS5jb2xhYi5fZmlsZXMgPSB7CiAgX3VwbG9hZEZpbGVzLAogIF91cGxvYWRGaWxlc0NvbnRpbnVlLAp9Owp9KShzZWxmKTsK",
              "ok": true,
              "headers": [
                [
                  "content-type",
                  "application/javascript"
                ]
              ],
              "status": 200,
              "status_text": "OK"
            }
          },
          "base_uri": "https://localhost:8080/",
          "height": 75
        },
        "id": "IQFu4CDCcjK5",
        "outputId": "3e140e44-49d9-467a-901c-ce106532641c"
      },
      "execution_count": null,
      "outputs": [
        {
          "output_type": "display_data",
          "data": {
            "text/plain": [
              "<IPython.core.display.HTML object>"
            ],
            "text/html": [
              "\n",
              "     <input type=\"file\" id=\"files-6832350a-f380-4a44-aadb-24ad841cef21\" name=\"files[]\" multiple disabled\n",
              "        style=\"border:none\" />\n",
              "     <output id=\"result-6832350a-f380-4a44-aadb-24ad841cef21\">\n",
              "      Upload widget is only available when the cell has been executed in the\n",
              "      current browser session. Please rerun this cell to enable.\n",
              "      </output>\n",
              "      <script src=\"/nbextensions/google.colab/files.js\"></script> "
            ]
          },
          "metadata": {}
        },
        {
          "output_type": "stream",
          "name": "stdout",
          "text": [
            "Saving aula_dcf_dados_filtrados.csv to aula_dcf_dados_filtrados.csv\n"
          ]
        }
      ]
    },
    {
      "cell_type": "markdown",
      "source": [
        "Neste exemplo, os dados estão no ficheiro \"aula_dcf_dados_filtrados.csv\". O qual só aparece no código python no final da próxima célula de código."
      ],
      "metadata": {
        "id": "iiAfeO6Wcjml"
      }
    },
    {
      "cell_type": "code",
      "source": [
        "csv_fn=\"/content/work_dir/aula_dcf_dados_filtrados.csv\""
      ],
      "metadata": {
        "id": "ljytCRpRJCje"
      },
      "execution_count": 3,
      "outputs": []
    },
    {
      "cell_type": "markdown",
      "source": [
        "Começamos por carregar o ficheiro csv com o pacote pandas (`pd.read_csv()`) depois há que proceder com alguma inspecção dos dados (descrita em comentário ao código."
      ],
      "metadata": {
        "id": "sbtjQNiuYjx1"
      }
    },
    {
      "cell_type": "code",
      "source": [
        "# Carregar o ficheiro\n",
        "data = pd.read_csv(csv_fn)\n",
        "\n",
        "print(f\"Os dados originais têm {len(data)} linhas.\")\n",
        "\n",
        "# Há duas colunas potencialmente problemáticas: acvalue e activity\n",
        "\n",
        "# em primeiro lugar, nem todas as Activity são Active e Inactive, pelo que vamos\n",
        "# remover todas as linhas que não cabem dentro desta classificação binária\n",
        "data=data[(data[\"activity\"]==\"Active\") | (data[\"activity\"]==\"Inactive\")]\n",
        "print(f\"Agora os dados têm {len(data)} linhas.\")\n",
        "\n",
        "# finalmente, para certos dados, acvalue está como NaN (not a number)\n",
        "# vamos alterar isto para 0.0, no caso dos compostos dados como Inactive\n",
        "# e elimina as linhas que permanecem com NaN\n",
        "data[\"acvalue\"][data[\"activity\"]=='Inactive'] = 0.0\n",
        "data=data.dropna()\n",
        "print(f\"No final os dados têm {len(data)} linhas.\")\n",
        "\n",
        "# vamos também remover a coluna acname\n",
        "#data=data.drop(\"acname\", axis=1)"
      ],
      "metadata": {
        "colab": {
          "base_uri": "https://localhost:8080/"
        },
        "id": "9If2FRqCZYty",
        "outputId": "dfd3be7b-0d0d-45a6-a46b-06deefe1e32f"
      },
      "execution_count": 5,
      "outputs": [
        {
          "output_type": "stream",
          "name": "stdout",
          "text": [
            "Os dados originais têm 6595 linhas.\n",
            "Agora os dados têm 4068 linhas.\n",
            "No final os dados têm 3440 linhas.\n"
          ]
        }
      ]
    },
    {
      "cell_type": "markdown",
      "source": [
        "## Passo 2: Recolha dos descritores moleculares\n",
        "\n",
        "Para recolher os SMILES dos 3440 compostos da nossa tabela, usamos o pacote `pubchempy`, que permite fazer pesquisas na pubchem de forma automática usando o python. Neste caso em particular, vamos guardar os vários smiles em sequência numa lista que depois é guardada na base de dados.\n",
        "\n",
        "Temos que usar um loop do tipo `for` com uma instrução do tipo sleep pelo meio para evitar saturar o servidor da PubChem. No entanto, com um sleep de 0.5, a recuperação dos cerca de 10000 compostos demora cerca de 2 horas (!). Para facilitar a nossa vida, vamos primeiro reduzir os dados a 800 compostos (todos os inactivos e o resto dos dados é preenchido por compostos activos)."
      ],
      "metadata": {
        "id": "vpnXesU_hR6f"
      }
    },
    {
      "cell_type": "code",
      "source": [
        "# comentar estas linhas se pretender usar todos os dados\n",
        "data_inactive=data[data['activity']=='Inactive']\n",
        "n_inactive = len(data_inactive)\n",
        "data_active=data[data['activity']=='Active'].sample(n=800-n_inactive)\n",
        "data=pd.concat([data_inactive,data_active])\n",
        "# A partir daqui não é necessário editar o codigo\n",
        "\n",
        "smiles_lst=list()\n",
        "\n",
        "for cid in data['cid']:\n",
        "  smiles_lst.append(pubchempy.Compound.from_cid(cid).canonical_smiles)\n",
        "  time.sleep(0.5)\n",
        "\n",
        "data['SIMLES']=smiles_lst"
      ],
      "metadata": {
        "id": "DDgvZPQGcsIF"
      },
      "execution_count": 6,
      "outputs": []
    },
    {
      "cell_type": "markdown",
      "source": [
        "Neste ponto, podemos querer guardar uma cópia dos dados em formato CSV para documentação do trabalho."
      ],
      "metadata": {
        "id": "h-oKMssVp-v0"
      }
    },
    {
      "cell_type": "code",
      "source": [
        "data.to_csv('snapshoot.csv',index=False)\n",
        "data = pd.read_csv('/content/work_dir/snapshoot.csv')"
      ],
      "metadata": {
        "id": "By8Mr5F-jFgk"
      },
      "execution_count": 7,
      "outputs": []
    },
    {
      "cell_type": "markdown",
      "source": [
        "\n",
        "Podemos agora inspecionar os nossos dados, que agora incluem uma coluna com o composto usado em cada ensaio, no formato SMILES."
      ],
      "metadata": {
        "id": "tbzj7Ml1RB7A"
      }
    },
    {
      "cell_type": "code",
      "source": [
        "data"
      ],
      "metadata": {
        "colab": {
          "base_uri": "https://localhost:8080/",
          "height": 424
        },
        "id": "hH2jaqEgZvuj",
        "outputId": "e4c2dfb3-aeb7-4601-8353-ec76eb498a9b"
      },
      "execution_count": 8,
      "outputs": [
        {
          "output_type": "execute_result",
          "data": {
            "text/plain": [
              "     activity        cid  acvalue  \\\n",
              "0    Inactive   11639241   0.0000   \n",
              "1    Inactive    9944846   0.0000   \n",
              "2    Inactive     446541   0.0000   \n",
              "3    Inactive      73680   0.0000   \n",
              "4    Inactive       6915   0.0000   \n",
              "..        ...        ...      ...   \n",
              "795    Active   24895004   1.1900   \n",
              "796    Active   52942292   0.0300   \n",
              "797    Active  118712705   0.0474   \n",
              "798    Active  156021695   0.1090   \n",
              "799    Active  118712712   0.0075   \n",
              "\n",
              "                                                SIMLES  \n",
              "0    C1=CC=C2C=C(C=CC2=C1)NS(=O)(=O)C3=CC=CC=C3C=CC...  \n",
              "1         C1=CC=C(C=C1)NS(=O)(=O)C2=CC=CC=C2C=CC(=O)NO  \n",
              "2          CC1=C2COC(=O)C2=C(C(=C1OC)CC=C(C)CCC(=O)O)O  \n",
              "3    C1=C(N=C(S1)C2C(C(C(O2)COP(=O)(O)OP(=O)(O)OCC3...  \n",
              "4                                        CCC(CC)C(=O)O  \n",
              "..                                                 ...  \n",
              "795     CCSC(=S)SCC(=O)C1=CC=C(C=C1)NC(=O)NC2=CC=CC=C2  \n",
              "796  COC1=CC2=C(C=C1)N(C=C2)N3CC4CN(CC4C3)C5=NC=C(C...  \n",
              "797  CC1=C(C2=CC=CC=C2N1)CCN(C)S(=O)(=O)C3=CC=C(C=C...  \n",
              "798    CN(C)S(=O)(=O)C1=CC=C(C2=NON=C12)NCCCCCCC(=O)NO  \n",
              "799     CC1=C(C2=CC=CC=C2N1)CCNCC3=CC=C(C=C3)C=CCNO.Cl  \n",
              "\n",
              "[800 rows x 4 columns]"
            ],
            "text/html": [
              "\n",
              "  <div id=\"df-0a782d14-85f8-4174-b330-ca26bde8c249\">\n",
              "    <div class=\"colab-df-container\">\n",
              "      <div>\n",
              "<style scoped>\n",
              "    .dataframe tbody tr th:only-of-type {\n",
              "        vertical-align: middle;\n",
              "    }\n",
              "\n",
              "    .dataframe tbody tr th {\n",
              "        vertical-align: top;\n",
              "    }\n",
              "\n",
              "    .dataframe thead th {\n",
              "        text-align: right;\n",
              "    }\n",
              "</style>\n",
              "<table border=\"1\" class=\"dataframe\">\n",
              "  <thead>\n",
              "    <tr style=\"text-align: right;\">\n",
              "      <th></th>\n",
              "      <th>activity</th>\n",
              "      <th>cid</th>\n",
              "      <th>acvalue</th>\n",
              "      <th>SIMLES</th>\n",
              "    </tr>\n",
              "  </thead>\n",
              "  <tbody>\n",
              "    <tr>\n",
              "      <th>0</th>\n",
              "      <td>Inactive</td>\n",
              "      <td>11639241</td>\n",
              "      <td>0.0000</td>\n",
              "      <td>C1=CC=C2C=C(C=CC2=C1)NS(=O)(=O)C3=CC=CC=C3C=CC...</td>\n",
              "    </tr>\n",
              "    <tr>\n",
              "      <th>1</th>\n",
              "      <td>Inactive</td>\n",
              "      <td>9944846</td>\n",
              "      <td>0.0000</td>\n",
              "      <td>C1=CC=C(C=C1)NS(=O)(=O)C2=CC=CC=C2C=CC(=O)NO</td>\n",
              "    </tr>\n",
              "    <tr>\n",
              "      <th>2</th>\n",
              "      <td>Inactive</td>\n",
              "      <td>446541</td>\n",
              "      <td>0.0000</td>\n",
              "      <td>CC1=C2COC(=O)C2=C(C(=C1OC)CC=C(C)CCC(=O)O)O</td>\n",
              "    </tr>\n",
              "    <tr>\n",
              "      <th>3</th>\n",
              "      <td>Inactive</td>\n",
              "      <td>73680</td>\n",
              "      <td>0.0000</td>\n",
              "      <td>C1=C(N=C(S1)C2C(C(C(O2)COP(=O)(O)OP(=O)(O)OCC3...</td>\n",
              "    </tr>\n",
              "    <tr>\n",
              "      <th>4</th>\n",
              "      <td>Inactive</td>\n",
              "      <td>6915</td>\n",
              "      <td>0.0000</td>\n",
              "      <td>CCC(CC)C(=O)O</td>\n",
              "    </tr>\n",
              "    <tr>\n",
              "      <th>...</th>\n",
              "      <td>...</td>\n",
              "      <td>...</td>\n",
              "      <td>...</td>\n",
              "      <td>...</td>\n",
              "    </tr>\n",
              "    <tr>\n",
              "      <th>795</th>\n",
              "      <td>Active</td>\n",
              "      <td>24895004</td>\n",
              "      <td>1.1900</td>\n",
              "      <td>CCSC(=S)SCC(=O)C1=CC=C(C=C1)NC(=O)NC2=CC=CC=C2</td>\n",
              "    </tr>\n",
              "    <tr>\n",
              "      <th>796</th>\n",
              "      <td>Active</td>\n",
              "      <td>52942292</td>\n",
              "      <td>0.0300</td>\n",
              "      <td>COC1=CC2=C(C=C1)N(C=C2)N3CC4CN(CC4C3)C5=NC=C(C...</td>\n",
              "    </tr>\n",
              "    <tr>\n",
              "      <th>797</th>\n",
              "      <td>Active</td>\n",
              "      <td>118712705</td>\n",
              "      <td>0.0474</td>\n",
              "      <td>CC1=C(C2=CC=CC=C2N1)CCN(C)S(=O)(=O)C3=CC=C(C=C...</td>\n",
              "    </tr>\n",
              "    <tr>\n",
              "      <th>798</th>\n",
              "      <td>Active</td>\n",
              "      <td>156021695</td>\n",
              "      <td>0.1090</td>\n",
              "      <td>CN(C)S(=O)(=O)C1=CC=C(C2=NON=C12)NCCCCCCC(=O)NO</td>\n",
              "    </tr>\n",
              "    <tr>\n",
              "      <th>799</th>\n",
              "      <td>Active</td>\n",
              "      <td>118712712</td>\n",
              "      <td>0.0075</td>\n",
              "      <td>CC1=C(C2=CC=CC=C2N1)CCNCC3=CC=C(C=C3)C=CCNO.Cl</td>\n",
              "    </tr>\n",
              "  </tbody>\n",
              "</table>\n",
              "<p>800 rows × 4 columns</p>\n",
              "</div>\n",
              "      <button class=\"colab-df-convert\" onclick=\"convertToInteractive('df-0a782d14-85f8-4174-b330-ca26bde8c249')\"\n",
              "              title=\"Convert this dataframe to an interactive table.\"\n",
              "              style=\"display:none;\">\n",
              "        \n",
              "  <svg xmlns=\"http://www.w3.org/2000/svg\" height=\"24px\"viewBox=\"0 0 24 24\"\n",
              "       width=\"24px\">\n",
              "    <path d=\"M0 0h24v24H0V0z\" fill=\"none\"/>\n",
              "    <path d=\"M18.56 5.44l.94 2.06.94-2.06 2.06-.94-2.06-.94-.94-2.06-.94 2.06-2.06.94zm-11 1L8.5 8.5l.94-2.06 2.06-.94-2.06-.94L8.5 2.5l-.94 2.06-2.06.94zm10 10l.94 2.06.94-2.06 2.06-.94-2.06-.94-.94-2.06-.94 2.06-2.06.94z\"/><path d=\"M17.41 7.96l-1.37-1.37c-.4-.4-.92-.59-1.43-.59-.52 0-1.04.2-1.43.59L10.3 9.45l-7.72 7.72c-.78.78-.78 2.05 0 2.83L4 21.41c.39.39.9.59 1.41.59.51 0 1.02-.2 1.41-.59l7.78-7.78 2.81-2.81c.8-.78.8-2.07 0-2.86zM5.41 20L4 18.59l7.72-7.72 1.47 1.35L5.41 20z\"/>\n",
              "  </svg>\n",
              "      </button>\n",
              "      \n",
              "  <style>\n",
              "    .colab-df-container {\n",
              "      display:flex;\n",
              "      flex-wrap:wrap;\n",
              "      gap: 12px;\n",
              "    }\n",
              "\n",
              "    .colab-df-convert {\n",
              "      background-color: #E8F0FE;\n",
              "      border: none;\n",
              "      border-radius: 50%;\n",
              "      cursor: pointer;\n",
              "      display: none;\n",
              "      fill: #1967D2;\n",
              "      height: 32px;\n",
              "      padding: 0 0 0 0;\n",
              "      width: 32px;\n",
              "    }\n",
              "\n",
              "    .colab-df-convert:hover {\n",
              "      background-color: #E2EBFA;\n",
              "      box-shadow: 0px 1px 2px rgba(60, 64, 67, 0.3), 0px 1px 3px 1px rgba(60, 64, 67, 0.15);\n",
              "      fill: #174EA6;\n",
              "    }\n",
              "\n",
              "    [theme=dark] .colab-df-convert {\n",
              "      background-color: #3B4455;\n",
              "      fill: #D2E3FC;\n",
              "    }\n",
              "\n",
              "    [theme=dark] .colab-df-convert:hover {\n",
              "      background-color: #434B5C;\n",
              "      box-shadow: 0px 1px 3px 1px rgba(0, 0, 0, 0.15);\n",
              "      filter: drop-shadow(0px 1px 2px rgba(0, 0, 0, 0.3));\n",
              "      fill: #FFFFFF;\n",
              "    }\n",
              "  </style>\n",
              "\n",
              "      <script>\n",
              "        const buttonEl =\n",
              "          document.querySelector('#df-0a782d14-85f8-4174-b330-ca26bde8c249 button.colab-df-convert');\n",
              "        buttonEl.style.display =\n",
              "          google.colab.kernel.accessAllowed ? 'block' : 'none';\n",
              "\n",
              "        async function convertToInteractive(key) {\n",
              "          const element = document.querySelector('#df-0a782d14-85f8-4174-b330-ca26bde8c249');\n",
              "          const dataTable =\n",
              "            await google.colab.kernel.invokeFunction('convertToInteractive',\n",
              "                                                     [key], {});\n",
              "          if (!dataTable) return;\n",
              "\n",
              "          const docLinkHtml = 'Like what you see? Visit the ' +\n",
              "            '<a target=\"_blank\" href=https://colab.research.google.com/notebooks/data_table.ipynb>data table notebook</a>'\n",
              "            + ' to learn more about interactive tables.';\n",
              "          element.innerHTML = '';\n",
              "          dataTable['output_type'] = 'display_data';\n",
              "          await google.colab.output.renderOutput(dataTable, element);\n",
              "          const docLink = document.createElement('div');\n",
              "          docLink.innerHTML = docLinkHtml;\n",
              "          element.appendChild(docLink);\n",
              "        }\n",
              "      </script>\n",
              "    </div>\n",
              "  </div>\n",
              "  "
            ]
          },
          "metadata": {},
          "execution_count": 8
        }
      ]
    },
    {
      "cell_type": "markdown",
      "source": [
        "Agora que já temos os SMILES, podemos descartar os CIDs."
      ],
      "metadata": {
        "id": "jnt_LH8iqq7f"
      }
    },
    {
      "cell_type": "code",
      "source": [
        "data=data.drop('cid',axis=1)"
      ],
      "metadata": {
        "id": "AjY06h_apttZ"
      },
      "execution_count": 9,
      "outputs": []
    },
    {
      "cell_type": "markdown",
      "source": [
        "Agora, existe uma lista extensa de descritores disponívels no RdKit (https://www.rdkit.org/docs/GettingStartedInPython.html#list-of-available-descriptors). Para este exemplo vamos usar apenas alguns, que colocamos num dicionário (pares nome e nome da função que o calcula)"
      ],
      "metadata": {
        "id": "tx7Ctjm6q7C3"
      }
    },
    {
      "cell_type": "code",
      "source": [
        "descriptor_d = dict()\n",
        "\n",
        "descriptor_d['MolLogP'] = Chem.Descriptors.MolLogP\n",
        "descriptor_d['BertzCT'] = Chem.Descriptors.BertzCT\n",
        "descriptor_d['HallKierAlpha'] = Chem.Descriptors.HallKierAlpha\n",
        "descriptor_d['Chi0'] = Chem.Descriptors.Chi0\n",
        "descriptor_d['Chi1'] = Chem.Descriptors.Chi1\n",
        "descriptor_d['MolWt'] = Chem.Descriptors.MolWt\n",
        "descriptor_d['HeavyAtomCount'] = Chem.Descriptors.HeavyAtomCount\n",
        "descriptor_d['NumHAcceptors'] = Chem.Descriptors.NumHAcceptors\n",
        "descriptor_d['NumHDonors'] = Chem.Descriptors.NumHDonors\n",
        "descriptor_d['NumHeteroatoms'] = Chem.Descriptors.NumHeteroatoms\n",
        "descriptor_d['NumRotatableBonds'] = Chem.Descriptors.NumRotatableBonds\n",
        "descriptor_d['NumValenceElectrons'] = Chem.Descriptors.NumValenceElectrons\n",
        "descriptor_d['FractionCSP3'] = Chem.Descriptors.FractionCSP3\n",
        "descriptor_d['TPSA'] = Chem.Descriptors.TPSA\n",
        "descriptor_d['LabuteASA'] = Chem.Descriptors.LabuteASA\n",
        "descriptor_d['VSA_EState1'] = Chem.Descriptors.VSA_EState1\n",
        "descriptor_d['VSA_EState2'] = Chem.Descriptors.VSA_EState2\n",
        "descriptor_d['VSA_EState3'] = Chem.Descriptors.VSA_EState3\n",
        "descriptor_d['VSA_EState4'] = Chem.Descriptors.VSA_EState4\n",
        "descriptor_d['VSA_EState5'] = Chem.Descriptors.VSA_EState5\n",
        "descriptor_d['VSA_EState6'] = Chem.Descriptors.VSA_EState6\n",
        "descriptor_d['VSA_EState7'] = Chem.Descriptors.VSA_EState7\n",
        "descriptor_d['VSA_EState8'] = Chem.Descriptors.VSA_EState8\n",
        "descriptor_d['VSA_EState9'] = Chem.Descriptors.VSA_EState9\n",
        "descriptor_d['VSA_EState10'] = Chem.Descriptors.VSA_EState10\n",
        "descriptor_d['PEOE_VSA1'] = Chem.Descriptors.PEOE_VSA1\n",
        "descriptor_d['PEOE_VSA2'] = Chem.Descriptors.PEOE_VSA2\n",
        "descriptor_d['PEOE_VSA3'] = Chem.Descriptors.PEOE_VSA3\n",
        "descriptor_d['PEOE_VSA4'] = Chem.Descriptors.PEOE_VSA4\n",
        "descriptor_d['PEOE_VSA5'] = Chem.Descriptors.PEOE_VSA5\n",
        "descriptor_d['PEOE_VSA6'] = Chem.Descriptors.PEOE_VSA6\n",
        "descriptor_d['PEOE_VSA7'] = Chem.Descriptors.PEOE_VSA7\n",
        "descriptor_d['PEOE_VSA8'] = Chem.Descriptors.PEOE_VSA8\n",
        "descriptor_d['PEOE_VSA9'] = Chem.Descriptors.PEOE_VSA9\n",
        "descriptor_d['PEOE_VSA10'] = Chem.Descriptors.PEOE_VSA10"
      ],
      "metadata": {
        "id": "9JO4EqS9q0tA"
      },
      "execution_count": 10,
      "outputs": []
    },
    {
      "cell_type": "markdown",
      "source": [
        "Usamos o seguinte código para calcular os descritores para cada molécula. Cada descritor é guardado numa nova coluna na tabela `data`\n"
      ],
      "metadata": {
        "id": "ttyCJV03RR0H"
      }
    },
    {
      "cell_type": "code",
      "source": [
        "descs=dict()\n",
        "\n",
        "for k in descriptor_d:\n",
        "  descs=list()\n",
        "  for smi in data['SIMLES']:\n",
        "    c = Chem.MolFromSmiles(smi)\n",
        "    descs.append(descriptor_d[k](c))\n",
        "  data[k]=descs\n",
        "\n",
        "data"
      ],
      "metadata": {
        "colab": {
          "base_uri": "https://localhost:8080/",
          "height": 488
        },
        "id": "tJBc6waYsYOU",
        "outputId": "f91389ca-9dd3-45f7-abcf-f039cf364609"
      },
      "execution_count": 11,
      "outputs": [
        {
          "output_type": "execute_result",
          "data": {
            "text/plain": [
              "     activity  acvalue                                             SIMLES  \\\n",
              "0    Inactive   0.0000  C1=CC=C2C=C(C=CC2=C1)NS(=O)(=O)C3=CC=CC=C3C=CC...   \n",
              "1    Inactive   0.0000       C1=CC=C(C=C1)NS(=O)(=O)C2=CC=CC=C2C=CC(=O)NO   \n",
              "2    Inactive   0.0000        CC1=C2COC(=O)C2=C(C(=C1OC)CC=C(C)CCC(=O)O)O   \n",
              "3    Inactive   0.0000  C1=C(N=C(S1)C2C(C(C(O2)COP(=O)(O)OP(=O)(O)OCC3...   \n",
              "4    Inactive   0.0000                                      CCC(CC)C(=O)O   \n",
              "..        ...      ...                                                ...   \n",
              "795    Active   1.1900     CCSC(=S)SCC(=O)C1=CC=C(C=C1)NC(=O)NC2=CC=CC=C2   \n",
              "796    Active   0.0300  COC1=CC2=C(C=C1)N(C=C2)N3CC4CN(CC4C3)C5=NC=C(C...   \n",
              "797    Active   0.0474  CC1=C(C2=CC=CC=C2N1)CCN(C)S(=O)(=O)C3=CC=C(C=C...   \n",
              "798    Active   0.1090    CN(C)S(=O)(=O)C1=CC=C(C2=NON=C12)NCCCCCCC(=O)NO   \n",
              "799    Active   0.0075     CC1=C(C2=CC=CC=C2N1)CCNCC3=CC=C(C=C3)C=CCNO.Cl   \n",
              "\n",
              "     MolLogP      BertzCT  HallKierAlpha       Chi0       Chi1    MolWt  \\\n",
              "0    3.15920  1091.399248          -3.16  18.570703  12.492332  368.414   \n",
              "1    2.00600   786.199563          -2.64  16.001789  10.526005  318.354   \n",
              "2    2.73322   687.059387          -2.50  17.145900  10.862280  320.341   \n",
              "3   -2.30440  1591.757336          -2.53  31.266856  20.171142  669.459   \n",
              "4    1.50720    74.597721          -0.53   6.568914   3.718744  116.160   \n",
              "..       ...          ...            ...        ...        ...      ...   \n",
              "795  5.28450   733.746214          -1.83  18.070703  12.079719  390.555   \n",
              "796  1.26310  1036.056084          -3.33  19.957455  14.156530  394.435   \n",
              "797  2.85812  1148.387859          -2.94  21.018297  13.823736  413.499   \n",
              "798  1.34090   849.229193          -2.24  19.156490  12.374246  385.446   \n",
              "799  4.22242   840.088404          -2.11  17.484917  12.275188  371.912   \n",
              "\n",
              "     HeavyAtomCount  ...  VSA_EState1  VSA_EState2  VSA_EState3  VSA_EState4  \\\n",
              "0                26  ...    28.112658    11.171898    10.467245     2.223317   \n",
              "1                22  ...    27.348347    11.052697     8.455421     2.209957   \n",
              "2                23  ...    10.392532    22.404940    19.149895     3.040892   \n",
              "3                43  ...    50.583802    46.954681    42.813997    11.139381   \n",
              "4                 8  ...     0.000000    10.161574     8.373241     0.000000   \n",
              "..              ...  ...          ...          ...          ...          ...   \n",
              "795              25  ...     0.784000    24.069151     5.468344     1.935417   \n",
              "796              29  ...     7.569831    22.176931    12.264739     3.010654   \n",
              "797              29  ...    27.079185    14.535997     9.591686     5.342086   \n",
              "798              26  ...    30.519327    10.931387    19.144952     2.819002   \n",
              "799              26  ...     0.000000     3.458486    13.399115     8.397349   \n",
              "\n",
              "     VSA_EState5  VSA_EState6  VSA_EState7  VSA_EState8  VSA_EState9  \\\n",
              "0      -0.750288    19.188584     2.365959     0.000000    -3.862706   \n",
              "1      -0.747019    14.708804     2.349187     0.000000    -3.794061   \n",
              "2      -0.972732     0.000000     2.680414     3.793845     1.510214   \n",
              "3      -0.781543     0.000000    -9.481190    -1.798120   -10.727605   \n",
              "4      -0.800926     0.000000     1.483796     3.782315     0.000000   \n",
              "..           ...          ...          ...          ...          ...   \n",
              "795     1.252568    15.683103     0.000000     2.026802     0.000000   \n",
              "796     1.955651     8.278496     5.000006     3.725618     1.684741   \n",
              "797    -0.658328    14.182434     3.229454     2.343727    -2.062907   \n",
              "798    -0.377949     3.131154     3.664905     0.660648    -0.743427   \n",
              "799     0.000000    16.937127     4.890710     4.417214     0.000000   \n",
              "\n",
              "     VSA_EState10  \n",
              "0        0.000000  \n",
              "1        0.000000  \n",
              "2        0.000000  \n",
              "3        0.907707  \n",
              "4        0.000000  \n",
              "..            ...  \n",
              "795      8.113949  \n",
              "796      0.000000  \n",
              "797      0.000000  \n",
              "798      0.000000  \n",
              "799      0.000000  \n",
              "\n",
              "[800 rows x 28 columns]"
            ],
            "text/html": [
              "\n",
              "  <div id=\"df-b74fe88f-8064-4f38-bf22-2549d3ad2a14\">\n",
              "    <div class=\"colab-df-container\">\n",
              "      <div>\n",
              "<style scoped>\n",
              "    .dataframe tbody tr th:only-of-type {\n",
              "        vertical-align: middle;\n",
              "    }\n",
              "\n",
              "    .dataframe tbody tr th {\n",
              "        vertical-align: top;\n",
              "    }\n",
              "\n",
              "    .dataframe thead th {\n",
              "        text-align: right;\n",
              "    }\n",
              "</style>\n",
              "<table border=\"1\" class=\"dataframe\">\n",
              "  <thead>\n",
              "    <tr style=\"text-align: right;\">\n",
              "      <th></th>\n",
              "      <th>activity</th>\n",
              "      <th>acvalue</th>\n",
              "      <th>SIMLES</th>\n",
              "      <th>MolLogP</th>\n",
              "      <th>BertzCT</th>\n",
              "      <th>HallKierAlpha</th>\n",
              "      <th>Chi0</th>\n",
              "      <th>Chi1</th>\n",
              "      <th>MolWt</th>\n",
              "      <th>HeavyAtomCount</th>\n",
              "      <th>...</th>\n",
              "      <th>VSA_EState1</th>\n",
              "      <th>VSA_EState2</th>\n",
              "      <th>VSA_EState3</th>\n",
              "      <th>VSA_EState4</th>\n",
              "      <th>VSA_EState5</th>\n",
              "      <th>VSA_EState6</th>\n",
              "      <th>VSA_EState7</th>\n",
              "      <th>VSA_EState8</th>\n",
              "      <th>VSA_EState9</th>\n",
              "      <th>VSA_EState10</th>\n",
              "    </tr>\n",
              "  </thead>\n",
              "  <tbody>\n",
              "    <tr>\n",
              "      <th>0</th>\n",
              "      <td>Inactive</td>\n",
              "      <td>0.0000</td>\n",
              "      <td>C1=CC=C2C=C(C=CC2=C1)NS(=O)(=O)C3=CC=CC=C3C=CC...</td>\n",
              "      <td>3.15920</td>\n",
              "      <td>1091.399248</td>\n",
              "      <td>-3.16</td>\n",
              "      <td>18.570703</td>\n",
              "      <td>12.492332</td>\n",
              "      <td>368.414</td>\n",
              "      <td>26</td>\n",
              "      <td>...</td>\n",
              "      <td>28.112658</td>\n",
              "      <td>11.171898</td>\n",
              "      <td>10.467245</td>\n",
              "      <td>2.223317</td>\n",
              "      <td>-0.750288</td>\n",
              "      <td>19.188584</td>\n",
              "      <td>2.365959</td>\n",
              "      <td>0.000000</td>\n",
              "      <td>-3.862706</td>\n",
              "      <td>0.000000</td>\n",
              "    </tr>\n",
              "    <tr>\n",
              "      <th>1</th>\n",
              "      <td>Inactive</td>\n",
              "      <td>0.0000</td>\n",
              "      <td>C1=CC=C(C=C1)NS(=O)(=O)C2=CC=CC=C2C=CC(=O)NO</td>\n",
              "      <td>2.00600</td>\n",
              "      <td>786.199563</td>\n",
              "      <td>-2.64</td>\n",
              "      <td>16.001789</td>\n",
              "      <td>10.526005</td>\n",
              "      <td>318.354</td>\n",
              "      <td>22</td>\n",
              "      <td>...</td>\n",
              "      <td>27.348347</td>\n",
              "      <td>11.052697</td>\n",
              "      <td>8.455421</td>\n",
              "      <td>2.209957</td>\n",
              "      <td>-0.747019</td>\n",
              "      <td>14.708804</td>\n",
              "      <td>2.349187</td>\n",
              "      <td>0.000000</td>\n",
              "      <td>-3.794061</td>\n",
              "      <td>0.000000</td>\n",
              "    </tr>\n",
              "    <tr>\n",
              "      <th>2</th>\n",
              "      <td>Inactive</td>\n",
              "      <td>0.0000</td>\n",
              "      <td>CC1=C2COC(=O)C2=C(C(=C1OC)CC=C(C)CCC(=O)O)O</td>\n",
              "      <td>2.73322</td>\n",
              "      <td>687.059387</td>\n",
              "      <td>-2.50</td>\n",
              "      <td>17.145900</td>\n",
              "      <td>10.862280</td>\n",
              "      <td>320.341</td>\n",
              "      <td>23</td>\n",
              "      <td>...</td>\n",
              "      <td>10.392532</td>\n",
              "      <td>22.404940</td>\n",
              "      <td>19.149895</td>\n",
              "      <td>3.040892</td>\n",
              "      <td>-0.972732</td>\n",
              "      <td>0.000000</td>\n",
              "      <td>2.680414</td>\n",
              "      <td>3.793845</td>\n",
              "      <td>1.510214</td>\n",
              "      <td>0.000000</td>\n",
              "    </tr>\n",
              "    <tr>\n",
              "      <th>3</th>\n",
              "      <td>Inactive</td>\n",
              "      <td>0.0000</td>\n",
              "      <td>C1=C(N=C(S1)C2C(C(C(O2)COP(=O)(O)OP(=O)(O)OCC3...</td>\n",
              "      <td>-2.30440</td>\n",
              "      <td>1591.757336</td>\n",
              "      <td>-2.53</td>\n",
              "      <td>31.266856</td>\n",
              "      <td>20.171142</td>\n",
              "      <td>669.459</td>\n",
              "      <td>43</td>\n",
              "      <td>...</td>\n",
              "      <td>50.583802</td>\n",
              "      <td>46.954681</td>\n",
              "      <td>42.813997</td>\n",
              "      <td>11.139381</td>\n",
              "      <td>-0.781543</td>\n",
              "      <td>0.000000</td>\n",
              "      <td>-9.481190</td>\n",
              "      <td>-1.798120</td>\n",
              "      <td>-10.727605</td>\n",
              "      <td>0.907707</td>\n",
              "    </tr>\n",
              "    <tr>\n",
              "      <th>4</th>\n",
              "      <td>Inactive</td>\n",
              "      <td>0.0000</td>\n",
              "      <td>CCC(CC)C(=O)O</td>\n",
              "      <td>1.50720</td>\n",
              "      <td>74.597721</td>\n",
              "      <td>-0.53</td>\n",
              "      <td>6.568914</td>\n",
              "      <td>3.718744</td>\n",
              "      <td>116.160</td>\n",
              "      <td>8</td>\n",
              "      <td>...</td>\n",
              "      <td>0.000000</td>\n",
              "      <td>10.161574</td>\n",
              "      <td>8.373241</td>\n",
              "      <td>0.000000</td>\n",
              "      <td>-0.800926</td>\n",
              "      <td>0.000000</td>\n",
              "      <td>1.483796</td>\n",
              "      <td>3.782315</td>\n",
              "      <td>0.000000</td>\n",
              "      <td>0.000000</td>\n",
              "    </tr>\n",
              "    <tr>\n",
              "      <th>...</th>\n",
              "      <td>...</td>\n",
              "      <td>...</td>\n",
              "      <td>...</td>\n",
              "      <td>...</td>\n",
              "      <td>...</td>\n",
              "      <td>...</td>\n",
              "      <td>...</td>\n",
              "      <td>...</td>\n",
              "      <td>...</td>\n",
              "      <td>...</td>\n",
              "      <td>...</td>\n",
              "      <td>...</td>\n",
              "      <td>...</td>\n",
              "      <td>...</td>\n",
              "      <td>...</td>\n",
              "      <td>...</td>\n",
              "      <td>...</td>\n",
              "      <td>...</td>\n",
              "      <td>...</td>\n",
              "      <td>...</td>\n",
              "      <td>...</td>\n",
              "    </tr>\n",
              "    <tr>\n",
              "      <th>795</th>\n",
              "      <td>Active</td>\n",
              "      <td>1.1900</td>\n",
              "      <td>CCSC(=S)SCC(=O)C1=CC=C(C=C1)NC(=O)NC2=CC=CC=C2</td>\n",
              "      <td>5.28450</td>\n",
              "      <td>733.746214</td>\n",
              "      <td>-1.83</td>\n",
              "      <td>18.070703</td>\n",
              "      <td>12.079719</td>\n",
              "      <td>390.555</td>\n",
              "      <td>25</td>\n",
              "      <td>...</td>\n",
              "      <td>0.784000</td>\n",
              "      <td>24.069151</td>\n",
              "      <td>5.468344</td>\n",
              "      <td>1.935417</td>\n",
              "      <td>1.252568</td>\n",
              "      <td>15.683103</td>\n",
              "      <td>0.000000</td>\n",
              "      <td>2.026802</td>\n",
              "      <td>0.000000</td>\n",
              "      <td>8.113949</td>\n",
              "    </tr>\n",
              "    <tr>\n",
              "      <th>796</th>\n",
              "      <td>Active</td>\n",
              "      <td>0.0300</td>\n",
              "      <td>COC1=CC2=C(C=C1)N(C=C2)N3CC4CN(CC4C3)C5=NC=C(C...</td>\n",
              "      <td>1.26310</td>\n",
              "      <td>1036.056084</td>\n",
              "      <td>-3.33</td>\n",
              "      <td>19.957455</td>\n",
              "      <td>14.156530</td>\n",
              "      <td>394.435</td>\n",
              "      <td>29</td>\n",
              "      <td>...</td>\n",
              "      <td>7.569831</td>\n",
              "      <td>22.176931</td>\n",
              "      <td>12.264739</td>\n",
              "      <td>3.010654</td>\n",
              "      <td>1.955651</td>\n",
              "      <td>8.278496</td>\n",
              "      <td>5.000006</td>\n",
              "      <td>3.725618</td>\n",
              "      <td>1.684741</td>\n",
              "      <td>0.000000</td>\n",
              "    </tr>\n",
              "    <tr>\n",
              "      <th>797</th>\n",
              "      <td>Active</td>\n",
              "      <td>0.0474</td>\n",
              "      <td>CC1=C(C2=CC=CC=C2N1)CCN(C)S(=O)(=O)C3=CC=C(C=C...</td>\n",
              "      <td>2.85812</td>\n",
              "      <td>1148.387859</td>\n",
              "      <td>-2.94</td>\n",
              "      <td>21.018297</td>\n",
              "      <td>13.823736</td>\n",
              "      <td>413.499</td>\n",
              "      <td>29</td>\n",
              "      <td>...</td>\n",
              "      <td>27.079185</td>\n",
              "      <td>14.535997</td>\n",
              "      <td>9.591686</td>\n",
              "      <td>5.342086</td>\n",
              "      <td>-0.658328</td>\n",
              "      <td>14.182434</td>\n",
              "      <td>3.229454</td>\n",
              "      <td>2.343727</td>\n",
              "      <td>-2.062907</td>\n",
              "      <td>0.000000</td>\n",
              "    </tr>\n",
              "    <tr>\n",
              "      <th>798</th>\n",
              "      <td>Active</td>\n",
              "      <td>0.1090</td>\n",
              "      <td>CN(C)S(=O)(=O)C1=CC=C(C2=NON=C12)NCCCCCCC(=O)NO</td>\n",
              "      <td>1.34090</td>\n",
              "      <td>849.229193</td>\n",
              "      <td>-2.24</td>\n",
              "      <td>19.156490</td>\n",
              "      <td>12.374246</td>\n",
              "      <td>385.446</td>\n",
              "      <td>26</td>\n",
              "      <td>...</td>\n",
              "      <td>30.519327</td>\n",
              "      <td>10.931387</td>\n",
              "      <td>19.144952</td>\n",
              "      <td>2.819002</td>\n",
              "      <td>-0.377949</td>\n",
              "      <td>3.131154</td>\n",
              "      <td>3.664905</td>\n",
              "      <td>0.660648</td>\n",
              "      <td>-0.743427</td>\n",
              "      <td>0.000000</td>\n",
              "    </tr>\n",
              "    <tr>\n",
              "      <th>799</th>\n",
              "      <td>Active</td>\n",
              "      <td>0.0075</td>\n",
              "      <td>CC1=C(C2=CC=CC=C2N1)CCNCC3=CC=C(C=C3)C=CCNO.Cl</td>\n",
              "      <td>4.22242</td>\n",
              "      <td>840.088404</td>\n",
              "      <td>-2.11</td>\n",
              "      <td>17.484917</td>\n",
              "      <td>12.275188</td>\n",
              "      <td>371.912</td>\n",
              "      <td>26</td>\n",
              "      <td>...</td>\n",
              "      <td>0.000000</td>\n",
              "      <td>3.458486</td>\n",
              "      <td>13.399115</td>\n",
              "      <td>8.397349</td>\n",
              "      <td>0.000000</td>\n",
              "      <td>16.937127</td>\n",
              "      <td>4.890710</td>\n",
              "      <td>4.417214</td>\n",
              "      <td>0.000000</td>\n",
              "      <td>0.000000</td>\n",
              "    </tr>\n",
              "  </tbody>\n",
              "</table>\n",
              "<p>800 rows × 28 columns</p>\n",
              "</div>\n",
              "      <button class=\"colab-df-convert\" onclick=\"convertToInteractive('df-b74fe88f-8064-4f38-bf22-2549d3ad2a14')\"\n",
              "              title=\"Convert this dataframe to an interactive table.\"\n",
              "              style=\"display:none;\">\n",
              "        \n",
              "  <svg xmlns=\"http://www.w3.org/2000/svg\" height=\"24px\"viewBox=\"0 0 24 24\"\n",
              "       width=\"24px\">\n",
              "    <path d=\"M0 0h24v24H0V0z\" fill=\"none\"/>\n",
              "    <path d=\"M18.56 5.44l.94 2.06.94-2.06 2.06-.94-2.06-.94-.94-2.06-.94 2.06-2.06.94zm-11 1L8.5 8.5l.94-2.06 2.06-.94-2.06-.94L8.5 2.5l-.94 2.06-2.06.94zm10 10l.94 2.06.94-2.06 2.06-.94-2.06-.94-.94-2.06-.94 2.06-2.06.94z\"/><path d=\"M17.41 7.96l-1.37-1.37c-.4-.4-.92-.59-1.43-.59-.52 0-1.04.2-1.43.59L10.3 9.45l-7.72 7.72c-.78.78-.78 2.05 0 2.83L4 21.41c.39.39.9.59 1.41.59.51 0 1.02-.2 1.41-.59l7.78-7.78 2.81-2.81c.8-.78.8-2.07 0-2.86zM5.41 20L4 18.59l7.72-7.72 1.47 1.35L5.41 20z\"/>\n",
              "  </svg>\n",
              "      </button>\n",
              "      \n",
              "  <style>\n",
              "    .colab-df-container {\n",
              "      display:flex;\n",
              "      flex-wrap:wrap;\n",
              "      gap: 12px;\n",
              "    }\n",
              "\n",
              "    .colab-df-convert {\n",
              "      background-color: #E8F0FE;\n",
              "      border: none;\n",
              "      border-radius: 50%;\n",
              "      cursor: pointer;\n",
              "      display: none;\n",
              "      fill: #1967D2;\n",
              "      height: 32px;\n",
              "      padding: 0 0 0 0;\n",
              "      width: 32px;\n",
              "    }\n",
              "\n",
              "    .colab-df-convert:hover {\n",
              "      background-color: #E2EBFA;\n",
              "      box-shadow: 0px 1px 2px rgba(60, 64, 67, 0.3), 0px 1px 3px 1px rgba(60, 64, 67, 0.15);\n",
              "      fill: #174EA6;\n",
              "    }\n",
              "\n",
              "    [theme=dark] .colab-df-convert {\n",
              "      background-color: #3B4455;\n",
              "      fill: #D2E3FC;\n",
              "    }\n",
              "\n",
              "    [theme=dark] .colab-df-convert:hover {\n",
              "      background-color: #434B5C;\n",
              "      box-shadow: 0px 1px 3px 1px rgba(0, 0, 0, 0.15);\n",
              "      filter: drop-shadow(0px 1px 2px rgba(0, 0, 0, 0.3));\n",
              "      fill: #FFFFFF;\n",
              "    }\n",
              "  </style>\n",
              "\n",
              "      <script>\n",
              "        const buttonEl =\n",
              "          document.querySelector('#df-b74fe88f-8064-4f38-bf22-2549d3ad2a14 button.colab-df-convert');\n",
              "        buttonEl.style.display =\n",
              "          google.colab.kernel.accessAllowed ? 'block' : 'none';\n",
              "\n",
              "        async function convertToInteractive(key) {\n",
              "          const element = document.querySelector('#df-b74fe88f-8064-4f38-bf22-2549d3ad2a14');\n",
              "          const dataTable =\n",
              "            await google.colab.kernel.invokeFunction('convertToInteractive',\n",
              "                                                     [key], {});\n",
              "          if (!dataTable) return;\n",
              "\n",
              "          const docLinkHtml = 'Like what you see? Visit the ' +\n",
              "            '<a target=\"_blank\" href=https://colab.research.google.com/notebooks/data_table.ipynb>data table notebook</a>'\n",
              "            + ' to learn more about interactive tables.';\n",
              "          element.innerHTML = '';\n",
              "          dataTable['output_type'] = 'display_data';\n",
              "          await google.colab.output.renderOutput(dataTable, element);\n",
              "          const docLink = document.createElement('div');\n",
              "          docLink.innerHTML = docLinkHtml;\n",
              "          element.appendChild(docLink);\n",
              "        }\n",
              "      </script>\n",
              "    </div>\n",
              "  </div>\n",
              "  "
            ]
          },
          "metadata": {},
          "execution_count": 11
        }
      ]
    },
    {
      "cell_type": "markdown",
      "source": [
        "Finalmente temos que fazer um passo de cura: a coluna activity tem os valores de 'active' e 'inactive', mas alguns modelos apenas distinguem entre 0 e 1 (ou -1 e +1). Portanto, temos que converter os \"Active\" em 1 e os \"Inactive\" em 0."
      ],
      "metadata": {
        "id": "CkFBF-ZVAb9I"
      }
    },
    {
      "cell_type": "code",
      "source": [
        "data.loc[data['activity']=='Active','activity'] = 1\n",
        "data.loc[data['activity']=='Inactive','activity'] = 0\n",
        "# finalmente, temos que garantir que o computador considera estes 0's e 1's como números\n",
        "data['activity']=pd.to_numeric(data['activity'])\n"
      ],
      "metadata": {
        "id": "evvlKAFFBAMO"
      },
      "execution_count": 12,
      "outputs": []
    },
    {
      "cell_type": "markdown",
      "source": [
        "## Passo 3: Divisão dos dados em treino e teste\n",
        "\n",
        "O pacote `sklearn` tem uma função adequada para fazer a divisão dos dados. Neste caso, queremos que 60% dos dados sejam usados para o treino e os restantes 40% para o teste (outros racios comuns são 65:35 e 70:30). No exemplo abaixo pedimos para estratificar os dados por actividade, ou seja, pedimos à função que garanta que os conjuntos de treino e de teste tenham a mesma porpoção de casos positivos e negativos."
      ],
      "metadata": {
        "id": "-6o00gSa_8OJ"
      }
    },
    {
      "cell_type": "code",
      "source": [
        "treino, teste = model_selection.train_test_split(data,train_size=0.60,stratify=data['activity'])"
      ],
      "metadata": {
        "id": "a1GPDZWYs1m0"
      },
      "execution_count": 13,
      "outputs": []
    },
    {
      "cell_type": "markdown",
      "source": [
        "## Passo 4: Modelo de Regressão linear\n",
        "\n",
        "Este é o modelo mais básico de QSAR, que tenta expressar o valor da actividade como uma combinação linear dos diferentes descritores."
      ],
      "metadata": {
        "id": "FMLymmiUB2M3"
      }
    },
    {
      "cell_type": "code",
      "source": [
        "# Primeiro definimos a lista de nomes dos descritores e do target\n",
        "x_names = list(descriptor_d.keys())\n",
        "y_name = ['acvalue']\n",
        "\n",
        "# Depois definimos os valores de treino e de teste\n",
        "x_train = treino[x_names]\n",
        "y_train = treino[y_name]\n",
        "\n",
        "x_test = teste[x_names]\n",
        "y_test = teste[y_name]\n",
        "\n",
        "# Estes 4 conjuntos (x_train, y_train, x_test, y_test podem ser usado com qualquer modelo de regressão)"
      ],
      "metadata": {
        "id": "QWCiR7HnCIF2"
      },
      "execution_count": 14,
      "outputs": []
    },
    {
      "cell_type": "code",
      "source": [
        "# Agora criamos o modelo\n",
        "\n",
        "model = linear_model.LinearRegression(fit_intercept=True)\n",
        "\n",
        "# treinamos o modelo com os dados de treino usando o método fit()\n",
        "model.fit(x_train,y_train)\n",
        "\n",
        "# calculamos e imprimimos a métrica por defeito do modelo para o conjunto de treino e teste\n",
        "rsq_train = model.score(x_train,y_train)\n",
        "rsq_test = model.score(x_test,y_test)\n",
        "\n",
        "print(f\"O r2 no conjunto de treino é de {rsq_train:6.4f}\")\n",
        "print(f\"O r2 no conjunto de teste é de  {rsq_test:6.4f}\")"
      ],
      "metadata": {
        "colab": {
          "base_uri": "https://localhost:8080/"
        },
        "id": "-workXDFCvOd",
        "outputId": "bf972c2d-e72b-416c-909c-174764323fce"
      },
      "execution_count": 17,
      "outputs": [
        {
          "output_type": "stream",
          "name": "stdout",
          "text": [
            "O r2 no conjunto de treino é de 0.1376\n",
            "O r2 no conjunto de teste é de  -0.0042\n"
          ]
        }
      ]
    },
    {
      "cell_type": "markdown",
      "source": [
        "De notar que a métrica r2 no sklearn não é o quadrado do coeficiente de correlação de Pearson, o qual apenas varia entre o e 1, mas antes do Coefficiente de determinação, o qual pode variar de $-∞$ até +1 (em que 1 é um ajuste perfeito). \n",
        "\n",
        "No nosso caso, a regressão linear não consegue apresentar um modelo preditivo para a actividade, obtendo-se um valor baixo de r2 tanto para o conjunto de treino como para o conjunto de teste.  Podemos também fazer uma representação gráfica da precisão do modelo (_fitness plot_)."
      ],
      "metadata": {
        "id": "Qy32foMsFNd1"
      }
    },
    {
      "cell_type": "code",
      "source": [
        "make_fitness_plot(model, x_train, y_train, x_test, y_test)"
      ],
      "metadata": {
        "colab": {
          "base_uri": "https://localhost:8080/",
          "height": 279
        },
        "id": "Zps7YSmsHdrV",
        "outputId": "be92e818-45f6-48dc-f7b1-e99dad1ae133"
      },
      "execution_count": null,
      "outputs": [
        {
          "output_type": "display_data",
          "data": {
            "text/plain": [
              "<Figure size 432x288 with 1 Axes>"
            ],
            "image/png": "[encoded data removed]"
          },
          "metadata": {
            "needs_background": "light"
          }
        }
      ]
    },
    {
      "cell_type": "markdown",
      "source": [
        "Em geral, o método de regressão linear funciona bem quando temos\n",
        "1. muitos descritores\n",
        "1. o conjunto contém moléculas estruturalmente próximas\n",
        "\n",
        "Mas podemos melhorar a performance criando novos descritores que são multiplicação de dois descritores existentes."
      ],
      "metadata": {
        "id": "zSHaWmc9DxfU"
      }
    },
    {
      "cell_type": "code",
      "source": [
        "poly_maker = preprocessing.PolynomialFeatures(degree=2)\n",
        "\n",
        "# podemos re-utilizar a maior parte da receita acima\n",
        "x_train_p = poly_maker.fit_transform(x_train)\n",
        "x_test_p = poly_maker.fit_transform(x_test)\n",
        "\n",
        "model = linear_model.LinearRegression(fit_intercept=True)\n",
        "model.fit(x_train_p,y_train)\n",
        "\n",
        "rsq_train = model.score(x_train_p,y_train)\n",
        "rsq_test = model.score(x_test_p,y_test)\n",
        "\n",
        "print(f\"O r^2 no conjunto de treino é de {rsq_train:6.4f}\")\n",
        "print(f\"O r^2 no conjunto de teste é de  {rsq_test:6.4f}\")"
      ],
      "metadata": {
        "colab": {
          "base_uri": "https://localhost:8080/"
        },
        "id": "nDNA64STDgxD",
        "outputId": "12346aca-3314-4fc1-8552-c422c2f9a2b0"
      },
      "execution_count": 18,
      "outputs": [
        {
          "output_type": "stream",
          "name": "stdout",
          "text": [
            "O r^2 no conjunto de treino é de 0.7556\n",
            "O r^2 no conjunto de teste é de  -1175.4118\n"
          ]
        }
      ]
    },
    {
      "cell_type": "code",
      "source": [
        "# agora, para visualizar o fitness plot\n",
        "make_fitness_plot(model, x_train_p, y_train, x_test_p, y_test)"
      ],
      "metadata": {
        "colab": {
          "base_uri": "https://localhost:8080/",
          "height": 279
        },
        "id": "Vv7s5izWIHIU",
        "outputId": "4f53fc02-9ace-4cae-8dfa-03068c800b87"
      },
      "execution_count": 20,
      "outputs": [
        {
          "output_type": "display_data",
          "data": {
            "text/plain": [
              "<Figure size 432x288 with 1 Axes>"
            ],
            "image/png": "[encoded data removed]"
          },
          "metadata": {
            "needs_background": "light"
          }
        }
      ]
    },
    {
      "cell_type": "markdown",
      "source": [
        "Como podemos ver, o modelo linear continua a apresentar maus resultados, embora o uso das *Polynomial Features* permite um melhor ajuste aos dados usados durente o treino. Este tipo de comportamento em que o r2 é aceitável para o conjunto de treino mas muito mais baixo no conjunto de teste é ilustrativo de um problema de **overfitting**."
      ],
      "metadata": {
        "id": "3pR3FJO6ISQf"
      }
    },
    {
      "cell_type": "markdown",
      "source": [
        "## Passo 5: Modelo Classificador (Regressão Logística)\n",
        "\n",
        "Para fazer um modelo classificador, podemos re-utilizar o mesmo x_train e x_test do modelo regressor, mas o nosso y_train e y_test agora tem que conter a variável activity, em vez de acvalue."
      ],
      "metadata": {
        "id": "fktCBi0vFDuh"
      }
    },
    {
      "cell_type": "code",
      "source": [
        "# Primeiro definimos a lista de nomes dos descritores e do target\n",
        "x_names = list(descriptor_d.keys())\n",
        "y_name = ['activity']\n",
        "\n",
        "# Depois definimos os valores de treino e de teste\n",
        "x_train = treino[x_names]\n",
        "y_train = treino[y_name]\n",
        "\n",
        "x_test = teste[x_names]\n",
        "y_test = teste[y_name]\n",
        "\n",
        "# Estes 4 conjuntos (x_train, y_train, x_test, y_test podem ser usado com qualquer modelo de classificação)"
      ],
      "metadata": {
        "id": "_lhfwgKKE7ia"
      },
      "execution_count": 21,
      "outputs": []
    },
    {
      "cell_type": "code",
      "source": [
        "# Criamos o modelo classificador\n",
        "clf = linear_model.LogisticRegression(max_iter=10_000)\n",
        "\n",
        "# Fazemos treino do modelo\n",
        "clf.fit(x_train,y_train)\n",
        "\n",
        "train_score = clf.score(x_train,y_train)\n",
        "test_score = clf.score(x_test,y_test)\n",
        "\n",
        "print(f\"Score do conjunto de treino: {train_score}\")\n",
        "print(f\"Score do conjunto de teste:  {test_score}\")"
      ],
      "metadata": {
        "colab": {
          "base_uri": "https://localhost:8080/"
        },
        "id": "sm_tj6l7JAyj",
        "outputId": "363e690c-2e4d-47a4-ce7d-d7b0d243f5c1"
      },
      "execution_count": 22,
      "outputs": [
        {
          "output_type": "stream",
          "name": "stderr",
          "text": [
            "/usr/local/lib/python3.7/dist-packages/sklearn/utils/validation.py:993: DataConversionWarning: A column-vector y was passed when a 1d array was expected. Please change the shape of y to (n_samples, ), for example using ravel().\n",
            "  y = column_or_1d(y, warn=True)\n"
          ]
        },
        {
          "output_type": "stream",
          "name": "stdout",
          "text": [
            "Score do conjunto de treino: 0.7416666666666667\n",
            "Score do conjunto de teste:  0.7\n"
          ]
        }
      ]
    },
    {
      "cell_type": "markdown",
      "source": [
        "Os scores são muito promissores, com uma precisão próxima de 70% (no exemplo apresentado) tanto para o conjunto de treino como para o conjunto de teste. Podemos ver a matriz de confusão para ver como se comporta o modelo em termos de falsos positivos e falsos negativos."
      ],
      "metadata": {
        "id": "jL-bi9CpPQMK"
      }
    },
    {
      "cell_type": "code",
      "source": [
        "metrics.ConfusionMatrixDisplay.from_estimator(clf,pd.concat([x_train,x_test]),pd.concat([y_train,y_test]))"
      ],
      "metadata": {
        "colab": {
          "base_uri": "https://localhost:8080/",
          "height": 297
        },
        "id": "FN2VCgigJnY6",
        "outputId": "007d7d61-a160-4344-a685-7477a2f6e3a7"
      },
      "execution_count": 23,
      "outputs": [
        {
          "output_type": "execute_result",
          "data": {
            "text/plain": [
              "<sklearn.metrics._plot.confusion_matrix.ConfusionMatrixDisplay at 0x7f5c504ff610>"
            ]
          },
          "metadata": {},
          "execution_count": 23
        },
        {
          "output_type": "display_data",
          "data": {
            "text/plain": [
              "<Figure size 432x288 with 2 Axes>"
            ],
            "image/png": "[encoded data removed]"
          },
          "metadata": {
            "needs_background": "light"
          }
        }
      ]
    },
    {
      "cell_type": "markdown",
      "source": [
        "Como podemos ver, o modelo parece ter mais propensão para dar falsos positivos (cerca de um terço dos as moléculas inactivas foi classificada como activa) do que falsos negativos (apenas cerca de 1/4 dos compostos com actividade foram classificados como inactivos)."
      ],
      "metadata": {
        "id": "axmK0s6KUfLS"
      }
    }
  ]
}