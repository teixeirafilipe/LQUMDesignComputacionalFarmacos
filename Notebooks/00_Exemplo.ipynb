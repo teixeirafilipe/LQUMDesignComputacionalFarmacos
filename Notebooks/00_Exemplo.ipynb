{
  "nbformat": 4,
  "nbformat_minor": 0,
  "metadata": {
    "colab": {
      "name": "00-Exemplo.ipynb",
      "provenance": [],
      "collapsed_sections": []
    },
    "kernelspec": {
      "name": "python3",
      "display_name": "Python 3"
    },
    "language_info": {
      "name": "python"
    }
  },
  "cells": [
    {
      "cell_type": "markdown",
      "source": [
        "# Exemplo de Notebook do Google Collab\n",
        "\n",
        "Este notebook é apenas um exemplo para a utilização do Google Collab na cadeira de Introdução ao Desenho de Fármacos (módulo de Design Computacional de Fármacos).\n",
        "\n",
        "Nestes notebooks usa-se a linguagem de programação Python para explorar vários aspectos do Design Computacional de Fármacos. No entanto, a maior parte do código-base encontra-se numa única célula (após a secção \"Bases de Python), nas qual estão definidas as funções a usar nos trabalhos práticos. Todos os procedimentos subsequentes são feitos recorrendo apenas a commandos/funções simples."
      ],
      "metadata": {
        "id": "nwBMDhX2LF1F"
      }
    },
    {
      "cell_type": "markdown",
      "source": [
        "## Bases de Python"
      ],
      "metadata": {
        "id": "IfkBA6xdLb30"
      }
    },
    {
      "cell_type": "code",
      "execution_count": 2,
      "metadata": {
        "colab": {
          "base_uri": "https://localhost:8080/"
        },
        "id": "5y0h_Q5XLE6s",
        "outputId": "68ae09b9-110d-4c6f-de8f-29ec1eb0c9f3"
      },
      "outputs": [
        {
          "output_type": "execute_result",
          "data": {
            "text/plain": [
              "4"
            ]
          },
          "metadata": {},
          "execution_count": 2
        }
      ],
      "source": [
        "# tudo o que é escrito após o sinal cardinal é um comentário\n",
        "\n",
        "# podemos usar o python como uma calculadora\n",
        "2+2\n",
        "\n",
        "# (usamos Shift-Enter para executar a célula)"
      ]
    },
    {
      "cell_type": "code",
      "source": [
        "# Podemos guardar valores em variáveis e usar a função print para escrever o resultado de operações ou o conteúdo de uma variável\n",
        "\n",
        "pi = 3.14\n",
        "\n",
        "o_meu_numero = 3\n",
        "\n",
        "print(pi)\n",
        "print(2*pi)\n",
        "print(o_meu_numero * pi + 42)"
      ],
      "metadata": {
        "colab": {
          "base_uri": "https://localhost:8080/"
        },
        "id": "20MB3uhhMVPM",
        "outputId": "fc260507-9602-43f1-f39a-466afe359a9b"
      },
      "execution_count": 5,
      "outputs": [
        {
          "output_type": "stream",
          "name": "stdout",
          "text": [
            "3.14\n",
            "6.28\n",
            "51.42\n"
          ]
        }
      ]
    },
    {
      "cell_type": "code",
      "source": [
        "# Opdemos definir as nossas proprias funções\n",
        "\n",
        "def somar(x,y):\n",
        "  resultado = x + y\n",
        "  return resultado\n",
        "\n",
        "print(somar(pi,45)) # depois de executar uma célula, as variáveis ficam definidas para as células abaixo!"
      ],
      "metadata": {
        "colab": {
          "base_uri": "https://localhost:8080/"
        },
        "id": "Wo1p9h3QMs5C",
        "outputId": "79c533b4-d865-4bd0-ad55-7a56bd973bee"
      },
      "execution_count": 6,
      "outputs": [
        {
          "output_type": "stream",
          "name": "stdout",
          "text": [
            "48.14\n"
          ]
        }
      ]
    },
    {
      "cell_type": "code",
      "source": [
        "# Podemos usar expressões matemáticas imortando os módulos math ou o numpy\n",
        "\n",
        "import math\n",
        "\n",
        "print(math.cos(0))\n",
        "print(math.log(10.0)) # math.log é a função logaritmo natural\n",
        "print(math.log10(10.0)) # o logaritmo decimal é a math.log10"
      ],
      "metadata": {
        "colab": {
          "base_uri": "https://localhost:8080/"
        },
        "id": "ehtKqADJNNDZ",
        "outputId": "c4c19a2d-9813-4f20-b701-ba287c305225"
      },
      "execution_count": 7,
      "outputs": [
        {
          "output_type": "stream",
          "name": "stdout",
          "text": [
            "1.0\n",
            "2.302585092994046\n",
            "1.0\n"
          ]
        }
      ]
    },
    {
      "cell_type": "code",
      "source": [
        "# podemos ter uma lista de tudo o que está num módulo com a função dir()\n",
        "print(dir(math))"
      ],
      "metadata": {
        "colab": {
          "base_uri": "https://localhost:8080/"
        },
        "id": "_EGC-X2WNuaJ",
        "outputId": "392564d0-2e93-4e78-e2e4-774faaaa9310"
      },
      "execution_count": 8,
      "outputs": [
        {
          "output_type": "stream",
          "name": "stdout",
          "text": [
            "['__doc__', '__loader__', '__name__', '__package__', '__spec__', 'acos', 'acosh', 'asin', 'asinh', 'atan', 'atan2', 'atanh', 'ceil', 'copysign', 'cos', 'cosh', 'degrees', 'e', 'erf', 'erfc', 'exp', 'expm1', 'fabs', 'factorial', 'floor', 'fmod', 'frexp', 'fsum', 'gamma', 'gcd', 'hypot', 'inf', 'isclose', 'isfinite', 'isinf', 'isnan', 'ldexp', 'lgamma', 'log', 'log10', 'log1p', 'log2', 'modf', 'nan', 'pi', 'pow', 'radians', 'remainder', 'sin', 'sinh', 'sqrt', 'tan', 'tanh', 'tau', 'trunc']\n"
          ]
        }
      ]
    },
    {
      "cell_type": "code",
      "source": [
        "# Ou escrever um item dessa lista de cada vez, usando um ciclo for\n",
        "for nome in dir(math):\n",
        "  print(nome)"
      ],
      "metadata": {
        "colab": {
          "base_uri": "https://localhost:8080/"
        },
        "id": "pnzJmGrDN_s5",
        "outputId": "07395794-d8e4-499d-865c-3674bca13fd5"
      },
      "execution_count": 9,
      "outputs": [
        {
          "output_type": "stream",
          "name": "stdout",
          "text": [
            "__doc__\n",
            "__loader__\n",
            "__name__\n",
            "__package__\n",
            "__spec__\n",
            "acos\n",
            "acosh\n",
            "asin\n",
            "asinh\n",
            "atan\n",
            "atan2\n",
            "atanh\n",
            "ceil\n",
            "copysign\n",
            "cos\n",
            "cosh\n",
            "degrees\n",
            "e\n",
            "erf\n",
            "erfc\n",
            "exp\n",
            "expm1\n",
            "fabs\n",
            "factorial\n",
            "floor\n",
            "fmod\n",
            "frexp\n",
            "fsum\n",
            "gamma\n",
            "gcd\n",
            "hypot\n",
            "inf\n",
            "isclose\n",
            "isfinite\n",
            "isinf\n",
            "isnan\n",
            "ldexp\n",
            "lgamma\n",
            "log\n",
            "log10\n",
            "log1p\n",
            "log2\n",
            "modf\n",
            "nan\n",
            "pi\n",
            "pow\n",
            "radians\n",
            "remainder\n",
            "sin\n",
            "sinh\n",
            "sqrt\n",
            "tan\n",
            "tanh\n",
            "tau\n",
            "trunc\n"
          ]
        }
      ]
    },
    {
      "cell_type": "code",
      "source": [
        "# Finalmente, podemo consultar a documentação de uma dada função, com a função help()\n",
        "help(math.exp)"
      ],
      "metadata": {
        "colab": {
          "base_uri": "https://localhost:8080/"
        },
        "id": "oBX5amYyOKaw",
        "outputId": "0a307375-4eff-48af-d778-b935da04b298"
      },
      "execution_count": 10,
      "outputs": [
        {
          "output_type": "stream",
          "name": "stdout",
          "text": [
            "Help on built-in function exp in module math:\n",
            "\n",
            "exp(x, /)\n",
            "    Return e raised to the power of x.\n",
            "\n"
          ]
        }
      ]
    },
    {
      "cell_type": "code",
      "source": [
        ""
      ],
      "metadata": {
        "id": "--62UD25OarY"
      },
      "execution_count": null,
      "outputs": []
    }
  ]
}