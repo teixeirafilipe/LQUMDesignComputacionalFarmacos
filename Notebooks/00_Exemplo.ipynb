{
  "nbformat": 4,
  "nbformat_minor": 0,
  "metadata": {
    "colab": {
      "name": "00_Exemplo.ipynb",
      "provenance": [],
      "collapsed_sections": []
    },
    "kernelspec": {
      "name": "python3",
      "display_name": "Python 3"
    },
    "language_info": {
      "name": "python"
    }
  },
  "cells": [
    {
      "cell_type": "markdown",
      "source": [
        "# Exemplo de Notebook do Google Collab\n",
        "\n",
        "Este notebook é apenas um exemplo para a utilização do Google Collab na cadeira de Introdução ao Desenho de Fármacos (módulo de Design Computacional de Fármacos).\n",
        "\n",
        "Nestes notebooks usa-se a linguagem de programação Python para explorar vários aspectos do Design Computacional de Fármacos. No entanto, a maior parte do código-base encontra-se numa única célula (após a secção \"Bases de Python), nas qual estão definidas as funções a usar nos trabalhos práticos. Todos os procedimentos subsequentes são feitos recorrendo apenas a commandos/funções simples."
      ],
      "metadata": {
        "id": "nwBMDhX2LF1F"
      }
    },
    {
      "cell_type": "markdown",
      "source": [
        "## Bases de Python"
      ],
      "metadata": {
        "id": "IfkBA6xdLb30"
      }
    },
    {
      "cell_type": "code",
      "execution_count": 2,
      "metadata": {
        "colab": {
          "base_uri": "https://localhost:8080/"
        },
        "id": "5y0h_Q5XLE6s",
        "outputId": "492f29ea-e2af-499b-f719-91b0b34ab469"
      },
      "outputs": [
        {
          "output_type": "execute_result",
          "data": {
            "text/plain": [
              "4"
            ]
          },
          "metadata": {},
          "execution_count": 2
        }
      ],
      "source": [
        "# tudo o que é escrito após o sinal cardinal é um comentário\n",
        "\n",
        "# podemos usar o python como uma calculadora\n",
        "2+2\n",
        "\n",
        "# (usamos Shift-Enter para executar a célula)"
      ]
    },
    {
      "cell_type": "code",
      "source": [
        "# Podemos guardar valores em variáveis e usar a função print para escrever o resultado de operações ou o conteúdo de uma variável\n",
        "\n",
        "pi = 3.14\n",
        "\n",
        "o_meu_numero = 3\n",
        "\n",
        "print(pi)\n",
        "print(2*pi)\n",
        "print(o_meu_numero * pi + 42)"
      ],
      "metadata": {
        "colab": {
          "base_uri": "https://localhost:8080/"
        },
        "id": "20MB3uhhMVPM",
        "outputId": "2d63116f-0a15-4f40-82af-80b57965ccf9"
      },
      "execution_count": 3,
      "outputs": [
        {
          "output_type": "stream",
          "name": "stdout",
          "text": [
            "3.14\n",
            "6.28\n",
            "51.42\n"
          ]
        }
      ]
    },
    {
      "cell_type": "code",
      "source": [
        "# Opdemos definir as nossas proprias funções\n",
        "\n",
        "def somar(x,y):\n",
        "  resultado = x + y\n",
        "  return resultado\n",
        "\n",
        "print(somar(pi,45)) # depois de executar uma célula, as variáveis ficam definidas para as células abaixo!"
      ],
      "metadata": {
        "colab": {
          "base_uri": "https://localhost:8080/"
        },
        "id": "Wo1p9h3QMs5C",
        "outputId": "8b8ccbf0-3d40-4693-f1ce-c676608dbd8f"
      },
      "execution_count": 4,
      "outputs": [
        {
          "output_type": "stream",
          "name": "stdout",
          "text": [
            "48.14\n"
          ]
        }
      ]
    },
    {
      "cell_type": "code",
      "source": [
        "# Podemos usar expressões matemáticas imortando os módulos math ou o numpy\n",
        "\n",
        "import math\n",
        "\n",
        "print(math.cos(0))\n",
        "print(math.log(10.0)) # math.log é a função logaritmo natural\n",
        "print(math.log10(10.0)) # o logaritmo decimal é a math.log10"
      ],
      "metadata": {
        "colab": {
          "base_uri": "https://localhost:8080/"
        },
        "id": "ehtKqADJNNDZ",
        "outputId": "3edd66d7-ed54-4ba5-bf0c-58099726701b"
      },
      "execution_count": 5,
      "outputs": [
        {
          "output_type": "stream",
          "name": "stdout",
          "text": [
            "1.0\n",
            "2.302585092994046\n",
            "1.0\n"
          ]
        }
      ]
    },
    {
      "cell_type": "code",
      "source": [
        "# podemos ter uma lista de tudo o que está num módulo com a função dir()\n",
        "print(dir(math))"
      ],
      "metadata": {
        "colab": {
          "base_uri": "https://localhost:8080/"
        },
        "id": "_EGC-X2WNuaJ",
        "outputId": "cefb13a8-331e-45b3-a6c7-0729c64f05af"
      },
      "execution_count": 6,
      "outputs": [
        {
          "output_type": "stream",
          "name": "stdout",
          "text": [
            "['__doc__', '__loader__', '__name__', '__package__', '__spec__', 'acos', 'acosh', 'asin', 'asinh', 'atan', 'atan2', 'atanh', 'ceil', 'copysign', 'cos', 'cosh', 'degrees', 'e', 'erf', 'erfc', 'exp', 'expm1', 'fabs', 'factorial', 'floor', 'fmod', 'frexp', 'fsum', 'gamma', 'gcd', 'hypot', 'inf', 'isclose', 'isfinite', 'isinf', 'isnan', 'ldexp', 'lgamma', 'log', 'log10', 'log1p', 'log2', 'modf', 'nan', 'pi', 'pow', 'radians', 'remainder', 'sin', 'sinh', 'sqrt', 'tan', 'tanh', 'tau', 'trunc']\n"
          ]
        }
      ]
    },
    {
      "cell_type": "code",
      "source": [
        "# Ou escrever um item dessa lista de cada vez, usando um ciclo for\n",
        "for nome in dir(math):\n",
        "  print(nome)"
      ],
      "metadata": {
        "colab": {
          "base_uri": "https://localhost:8080/"
        },
        "id": "pnzJmGrDN_s5",
        "outputId": "26c7d454-91ce-4b19-8608-54c8cb43620d"
      },
      "execution_count": 7,
      "outputs": [
        {
          "output_type": "stream",
          "name": "stdout",
          "text": [
            "__doc__\n",
            "__loader__\n",
            "__name__\n",
            "__package__\n",
            "__spec__\n",
            "acos\n",
            "acosh\n",
            "asin\n",
            "asinh\n",
            "atan\n",
            "atan2\n",
            "atanh\n",
            "ceil\n",
            "copysign\n",
            "cos\n",
            "cosh\n",
            "degrees\n",
            "e\n",
            "erf\n",
            "erfc\n",
            "exp\n",
            "expm1\n",
            "fabs\n",
            "factorial\n",
            "floor\n",
            "fmod\n",
            "frexp\n",
            "fsum\n",
            "gamma\n",
            "gcd\n",
            "hypot\n",
            "inf\n",
            "isclose\n",
            "isfinite\n",
            "isinf\n",
            "isnan\n",
            "ldexp\n",
            "lgamma\n",
            "log\n",
            "log10\n",
            "log1p\n",
            "log2\n",
            "modf\n",
            "nan\n",
            "pi\n",
            "pow\n",
            "radians\n",
            "remainder\n",
            "sin\n",
            "sinh\n",
            "sqrt\n",
            "tan\n",
            "tanh\n",
            "tau\n",
            "trunc\n"
          ]
        }
      ]
    },
    {
      "cell_type": "code",
      "source": [
        "# Finalmente, podemo consultar a documentação de uma dada função, com a função help()\n",
        "help(math.exp)"
      ],
      "metadata": {
        "colab": {
          "base_uri": "https://localhost:8080/"
        },
        "id": "oBX5amYyOKaw",
        "outputId": "46d2149c-6d1a-474e-bc89-7461e6a528c5"
      },
      "execution_count": 8,
      "outputs": [
        {
          "output_type": "stream",
          "name": "stdout",
          "text": [
            "Help on built-in function exp in module math:\n",
            "\n",
            "exp(x, /)\n",
            "    Return e raised to the power of x.\n",
            "\n"
          ]
        }
      ]
    },
    {
      "cell_type": "code",
      "source": [
        ""
      ],
      "metadata": {
        "id": "--62UD25OarY"
      },
      "execution_count": 8,
      "outputs": []
    },
    {
      "cell_type": "markdown",
      "source": [
        "## Setup\n",
        "\n",
        "Esta secção tem as definições de funções necessárias para correr as aplicações de química/design de fármacos.\n",
        "\n",
        "Estas instruções estão divididas em duas células: a primeira faz a instalação do software necessario na máquina remota da Google (demora uns minutos). A segunda célula contém activa os módulos necessários e contém definições de funções necessárias para o trabalho (em geral deverá ser rápida a executar).\n",
        "\n",
        "É fundamental correr ambas as células, em sequência, para que o resto dos exempos possa correr."
      ],
      "metadata": {
        "id": "jKpe-kWfBWrf"
      }
    },
    {
      "cell_type": "code",
      "source": [
        "%%capture\n",
        "\n",
        "! pip install ase\n",
        "! pip install py3Dmol\n",
        "! pip install seaborn\n",
        "\n",
        "\n",
        "\n",
        "!wget -c https://repo.continuum.io/miniconda/Miniconda3-py37_4.8.3-Linux-x86_64.sh\n",
        "!chmod +x Miniconda3-py37_4.8.3-Linux-x86_64.sh\n",
        "!time bash ./Miniconda3-py37_4.8.3-Linux-x86_64.sh -b -f -p /usr/local\n",
        "!time conda install -y -c rdkit rdkit \n",
        "!time conda install -y -c conda-forge openbabel\n",
        "#!time conda install -y gxx_linux-64\n",
        "#!time conda install -q -y -c conda-forge rdkit\n",
        "#!time conda install  -y -c conda-forge xtb\n",
        "\n",
        "#wget -c https://repo.continuum.io/miniconda/Miniconda3-latest-Linux-x86_64.sh\n",
        "#chmod +x Miniconda3-latest-Linux-x86_64.sh\n",
        "#bash ./Miniconda3-latest-Linux-x86_64.sh -b -f -p /usr/local\n",
        "#conda install  -y -c conda-forge python\n",
        "#conda install  -y -c conda-forge rdkit\n",
        "#conda install  -y -c conda-forge xtb\n",
        "#pip install --user py3Dmol\n",
        "#pip install --user seaborn\n",
        "\n",
        "# install XTB\n",
        "!wget -c https://github.com/grimme-lab/xtb/releases/download/v6.4.0/xtb-210201.tar.xz\n",
        "!tar xf xtb-210201.tar.xz\n",
        "!export PATH=/content/xtb-6.4.0/bin:${PATH}\n",
        "!cd ..\n",
        "\n"
      ],
      "metadata": {
        "id": "ew7dz5X1B4hR"
      },
      "execution_count": 1,
      "outputs": []
    },
    {
      "cell_type": "code",
      "source": [
        "import sys\n",
        "site_pkg_path='/usr/local/lib/python3.7/site-packages'\n",
        "if site_pkg_path not in sys.path:\n",
        "  sys.path.append(site_pkg_path)\n",
        "import os\n",
        "\n",
        "import numpy as np\n",
        "import time\n",
        "import ase\n",
        "from collections import defaultdict\n",
        "from rdkit import Chem\n",
        "from rdkit.Chem import rdFMCS\n",
        "from rdkit.Chem import Draw\n",
        "from rdkit.Chem import AllChem\n",
        "from rdkit.Chem.Draw import IPythonConsole\n",
        "from rdkit.Chem import rdDistGeom\n",
        "IPythonConsole.ipython_3d = True\n",
        "import py3Dmol\n",
        "import matplotlib.pyplot as plt\n",
        "import subprocess\n",
        "import seaborn as sb\n",
        "\n",
        "## FUNÇÕES ADMINISTRATIVAS ##\n",
        "\n",
        "def shell(cmd, shell=True):\n",
        "  \"runs a command in the linux shell, adapted from Jimmy Kromann.\"\n",
        "  if shell:\n",
        "    p = subprocess.Popen(cmd, shell=True, stdin=subprocess.PIPE, stdout=subprocess.PIPE, stderr=subprocess.PIPE)\n",
        "  else:\n",
        "    p = subprocess.Popen(cmd, shell=True, stdin=subprocess.PIPE, stdout=subprocess.PIPE, stderr=subprocess.PIPE)\n",
        "  output, err = p.communicate()\n",
        "  return output\n",
        "\n",
        "def run_xtb(args):\n",
        "  return shell(f\"/content/xtb-6.4.0/bin/xtb {args}\")\n",
        "\n",
        "def get_snapshot(dirname='/content/work_dir',fn=None):\n",
        "  \"Downloads work_dir as a tbz file for archive.\"\n",
        "  from google.colab import files\n",
        "  import os\n",
        "  import time\n",
        "  origin = os.path.abspath(os.curdir)\n",
        "  now=time.localtime()\n",
        "  date_str=f\"{now[0]-2000:02d}{now[1]:02d}{now[2]:02d}-{now[3]:02d}{now[4]:02d}\"\n",
        "  ofn = fn if fn else f\"{date_str}-{os.path.split(dirname)[-1]}.tbz\"\n",
        "  os.chdir(dirname)\n",
        "  os.chdir('..')\n",
        "  shell(f\"tar cjf {ofn} ./{os.path.split(dirname)[-1]}\")\n",
        "  files.download(ofn)\n",
        "  os.chdir(origin)\n",
        "\n",
        "### Classe Molecule pode ser util para visualizar ficheiros xyz\n",
        "class Molecule():\n",
        "  def __init__(self,fn=None, name=None):\n",
        "    self.name='None'\n",
        "    self.symbols=list()\n",
        "    self.geo=np.array([])\n",
        "    if fn:\n",
        "      self.read_xyz(fn)\n",
        "    if name:\n",
        "      self.name=name\n",
        "\n",
        "  def natoms(self):\n",
        "      return len(self.symbols)\n",
        "  \n",
        "  def show(self): \n",
        "    p = py3Dmol.view(width=400,height=400)\n",
        "    p.addModel(self.write_xyz())\n",
        "    #p.setStyle({'stick':{}})\n",
        "    p.setStyle({'stick':{},'sphere':{'scale':0.3}})\n",
        "    p.setBackgroundColor('0xeeeeee')\n",
        "    p.zoomTo()\n",
        "    p.show()\n",
        "\n",
        "  def read_xyz(self, fn):\n",
        "    \"Reads a XYZ file\"\n",
        "    with open(fn,'r') as f:\n",
        "      data = f.readlines()\n",
        "    natoms = int(data[0])\n",
        "    g = list()\n",
        "    for i in range(2,2+natoms):\n",
        "      l = data[i].split()\n",
        "      self.symbols.append(l[0].capitalize())\n",
        "      g.append(list(map(float,l[1:4])))\n",
        "    self.geo=np.array(g)\n",
        "\n",
        "  def centre_location(self):\n",
        "    \"returns the location of the geometrical centre as a vector\"\n",
        "    return self.geo.mean(axis=0)\n",
        "\n",
        "  def shift(self, displacement):\n",
        "    \"Displaces the molecule as a whole, given a 3D vector (np.array)\"\n",
        "    self.geo += displacement\n",
        "\n",
        "  def center(self):\n",
        "    \"Displaces the molecule so that its geometrical centre is at the origin.\"\n",
        "    self.shift(-self.centre_location())\n",
        "\n",
        "  def write_xyz(self,fn=None):\n",
        "    s = f\"{self.natoms()}\\n Created by Molecule Class\\n\"\n",
        "    for n in range(self.natoms()):\n",
        "        s += f\"{self.symbols[n]:3s}\"\n",
        "        for i in range(3):\n",
        "          s += f\" {self.geo[n,i]:16.6f}\"\n",
        "        s += '\\n'\n",
        "    if fn:\n",
        "      with open(fn,'w') as f:\n",
        "        f.write(s)\n",
        "    else:\n",
        "      return s\n",
        "\n",
        "\n"
      ],
      "metadata": {
        "id": "-i4wByWRCJnJ"
      },
      "execution_count": 2,
      "outputs": []
    },
    {
      "cell_type": "markdown",
      "source": [
        "## Exemplo de trabalho com o RKit"
      ],
      "metadata": {
        "id": "1hGGvOUcCFzB"
      }
    },
    {
      "cell_type": "code",
      "source": [
        "mol=Chem.MolFromSmiles('CC(N)C')\n",
        "mol=Chem.AddHs(mol)\n",
        "AllChem.EmbedMolecule(mol,randomSeed=0xf00d)\n",
        "Chem.MolToMolFile(mol,'test.mol')\n",
        "mol"
      ],
      "metadata": {
        "id": "ljytCRpRJCje",
        "colab": {
          "base_uri": "https://localhost:8080/",
          "height": 417
        },
        "outputId": "2fea22d9-7d42-4a6f-85e4-0c5af9da5e92"
      },
      "execution_count": 3,
      "outputs": [
        {
          "output_type": "display_data",
          "data": {
            "application/3dmoljs_load.v0": "<div id=\"3dmolviewer_16479018296591895\"  style=\"position: relative; width: 400px; height: 400px\">\n        <p id=\"3dmolwarning_16479018296591895\" style=\"background-color:#ffcccc;color:black\">You appear to be running in JupyterLab (or JavaScript failed to load for some other reason).  You need to install the 3dmol extension: <br>\n        <tt>jupyter labextension install jupyterlab_3dmol</tt></p>\n        </div>\n<script>\n\nvar loadScriptAsync = function(uri){\n  return new Promise((resolve, reject) => {\n    var tag = document.createElement('script');\n    tag.src = uri;\n    tag.async = true;\n    tag.onload = () => {\n      resolve();\n    };\n  var firstScriptTag = document.getElementsByTagName('script')[0];\n  firstScriptTag.parentNode.insertBefore(tag, firstScriptTag);\n});\n};\n\nif(typeof $3Dmolpromise === 'undefined') {\n$3Dmolpromise = null;\n  $3Dmolpromise = loadScriptAsync('https://3dmol.org/build/3Dmol.js');\n}\n\nvar viewer_16479018296591895 = null;\nvar warn = document.getElementById(\"3dmolwarning_16479018296591895\");\nif(warn) {\n    warn.parentNode.removeChild(warn);\n}\n$3Dmolpromise.then(function() {\nviewer_16479018296591895 = $3Dmol.createViewer($(\"#3dmolviewer_16479018296591895\"),{backgroundColor:\"white\"});\nviewer_16479018296591895.zoomTo();\n\tviewer_16479018296591895.removeAllModels();\n\tviewer_16479018296591895.addModel(\"\\n     RDKit          3D\\n\\n 13 12  0  0  0  0  0  0  0  0999 V2000\\n   -0.6246   -1.2005    0.2849 C   0  0  0  0  0  0  0  0  0  0  0  0\\n    0.1211   -0.0074   -0.2971 C   0  0  0  0  0  0  0  0  0  0  0  0\\n    1.5059   -0.0156   -0.0602 N   0  0  0  0  0  0  0  0  0  0  0  0\\n   -0.5106    1.2880    0.2076 C   0  0  0  0  0  0  0  0  0  0  0  0\\n   -0.2250   -2.1061   -0.2366 H   0  0  0  0  0  0  0  0  0  0  0  0\\n   -1.7049   -1.0324    0.0285 H   0  0  0  0  0  0  0  0  0  0  0  0\\n   -0.4581   -1.3037    1.3619 H   0  0  0  0  0  0  0  0  0  0  0  0\\n   -0.0629   -0.0391   -1.3939 H   0  0  0  0  0  0  0  0  0  0  0  0\\n    2.1235   -0.3418   -0.7997 H   0  0  0  0  0  0  0  0  0  0  0  0\\n    1.8391   -0.0231    0.8909 H   0  0  0  0  0  0  0  0  0  0  0  0\\n   -1.4718    1.4033   -0.3280 H   0  0  0  0  0  0  0  0  0  0  0  0\\n    0.1593    2.1103   -0.1062 H   0  0  0  0  0  0  0  0  0  0  0  0\\n   -0.6911    1.2684    1.2897 H   0  0  0  0  0  0  0  0  0  0  0  0\\n  1  2  1  0\\n  2  3  1  0\\n  2  4  1  0\\n  1  5  1  0\\n  1  6  1  0\\n  1  7  1  0\\n  2  8  1  0\\n  3  9  1  0\\n  3 10  1  0\\n  4 11  1  0\\n  4 12  1  0\\n  4 13  1  0\\nM  END\\n\",\"sdf\");\n\tviewer_16479018296591895.setStyle({\"stick\": {}});\n\tviewer_16479018296591895.setBackgroundColor(\"0xeeeeee\");\n\tviewer_16479018296591895.zoomTo();\nviewer_16479018296591895.render();\n});\n</script>",
            "text/html": [
              "<div id=\"3dmolviewer_16479018296591895\"  style=\"position: relative; width: 400px; height: 400px\">\n",
              "        <p id=\"3dmolwarning_16479018296591895\" style=\"background-color:#ffcccc;color:black\">You appear to be running in JupyterLab (or JavaScript failed to load for some other reason).  You need to install the 3dmol extension: <br>\n",
              "        <tt>jupyter labextension install jupyterlab_3dmol</tt></p>\n",
              "        </div>\n",
              "<script>\n",
              "\n",
              "var loadScriptAsync = function(uri){\n",
              "  return new Promise((resolve, reject) => {\n",
              "    var tag = document.createElement('script');\n",
              "    tag.src = uri;\n",
              "    tag.async = true;\n",
              "    tag.onload = () => {\n",
              "      resolve();\n",
              "    };\n",
              "  var firstScriptTag = document.getElementsByTagName('script')[0];\n",
              "  firstScriptTag.parentNode.insertBefore(tag, firstScriptTag);\n",
              "});\n",
              "};\n",
              "\n",
              "if(typeof $3Dmolpromise === 'undefined') {\n",
              "$3Dmolpromise = null;\n",
              "  $3Dmolpromise = loadScriptAsync('https://3dmol.org/build/3Dmol.js');\n",
              "}\n",
              "\n",
              "var viewer_16479018296591895 = null;\n",
              "var warn = document.getElementById(\"3dmolwarning_16479018296591895\");\n",
              "if(warn) {\n",
              "    warn.parentNode.removeChild(warn);\n",
              "}\n",
              "$3Dmolpromise.then(function() {\n",
              "viewer_16479018296591895 = $3Dmol.createViewer($(\"#3dmolviewer_16479018296591895\"),{backgroundColor:\"white\"});\n",
              "viewer_16479018296591895.zoomTo();\n",
              "\tviewer_16479018296591895.removeAllModels();\n",
              "\tviewer_16479018296591895.addModel(\"\\n     RDKit          3D\\n\\n 13 12  0  0  0  0  0  0  0  0999 V2000\\n   -0.6246   -1.2005    0.2849 C   0  0  0  0  0  0  0  0  0  0  0  0\\n    0.1211   -0.0074   -0.2971 C   0  0  0  0  0  0  0  0  0  0  0  0\\n    1.5059   -0.0156   -0.0602 N   0  0  0  0  0  0  0  0  0  0  0  0\\n   -0.5106    1.2880    0.2076 C   0  0  0  0  0  0  0  0  0  0  0  0\\n   -0.2250   -2.1061   -0.2366 H   0  0  0  0  0  0  0  0  0  0  0  0\\n   -1.7049   -1.0324    0.0285 H   0  0  0  0  0  0  0  0  0  0  0  0\\n   -0.4581   -1.3037    1.3619 H   0  0  0  0  0  0  0  0  0  0  0  0\\n   -0.0629   -0.0391   -1.3939 H   0  0  0  0  0  0  0  0  0  0  0  0\\n    2.1235   -0.3418   -0.7997 H   0  0  0  0  0  0  0  0  0  0  0  0\\n    1.8391   -0.0231    0.8909 H   0  0  0  0  0  0  0  0  0  0  0  0\\n   -1.4718    1.4033   -0.3280 H   0  0  0  0  0  0  0  0  0  0  0  0\\n    0.1593    2.1103   -0.1062 H   0  0  0  0  0  0  0  0  0  0  0  0\\n   -0.6911    1.2684    1.2897 H   0  0  0  0  0  0  0  0  0  0  0  0\\n  1  2  1  0\\n  2  3  1  0\\n  2  4  1  0\\n  1  5  1  0\\n  1  6  1  0\\n  1  7  1  0\\n  2  8  1  0\\n  3  9  1  0\\n  3 10  1  0\\n  4 11  1  0\\n  4 12  1  0\\n  4 13  1  0\\nM  END\\n\",\"sdf\");\n",
              "\tviewer_16479018296591895.setStyle({\"stick\": {}});\n",
              "\tviewer_16479018296591895.setBackgroundColor(\"0xeeeeee\");\n",
              "\tviewer_16479018296591895.zoomTo();\n",
              "viewer_16479018296591895.render();\n",
              "});\n",
              "</script>"
            ]
          },
          "metadata": {}
        },
        {
          "output_type": "execute_result",
          "data": {
            "text/plain": [
              "<rdkit.Chem.rdchem.Mol at 0x7f79248af120>"
            ],
            "text/html": [
              ""
            ],
            "image/png": "[encoded data removed]"
          },
          "metadata": {},
          "execution_count": 3
        }
      ]
    },
    {
      "cell_type": "markdown",
      "source": [
        "## Exemplo de uso do Open babel"
      ],
      "metadata": {
        "id": "XvxIQE0GCUxn"
      }
    },
    {
      "cell_type": "code",
      "source": [
        "# gerar o melhor conformero ao fim de 20 tentativas e de 100 passos de optimização da geometria\n",
        "!obconformer 20 100 test.mol > best_conf.mol"
      ],
      "metadata": {
        "colab": {
          "base_uri": "https://localhost:8080/"
        },
        "id": "91JMFEhsE178",
        "outputId": "0912c00f-39c8-4338-d59d-475e7e72be60"
      },
      "execution_count": 4,
      "outputs": [
        {
          "output_type": "stream",
          "name": "stdout",
          "text": [
            "\n",
            "A T O M   T Y P E S\n",
            "\n",
            "IDX\tTYPE\tRING\n",
            "1\t1\tNO\n",
            "2\t1\tNO\n",
            "3\t8\tNO\n",
            "4\t1\tNO\n",
            "5\t5\tNO\n",
            "6\t5\tNO\n",
            "7\t5\tNO\n",
            "8\t5\tNO\n",
            "9\t23\tNO\n",
            "10\t23\tNO\n",
            "11\t5\tNO\n",
            "12\t5\tNO\n",
            "13\t5\tNO\n",
            "\n",
            "F O R M A L   C H A R G E S\n",
            "\n",
            "IDX\tCHARGE\n",
            "1\t0.000000\n",
            "2\t0.000000\n",
            "3\t0.000000\n",
            "4\t0.000000\n",
            "5\t0.000000\n",
            "6\t0.000000\n",
            "7\t0.000000\n",
            "8\t0.000000\n",
            "9\t0.000000\n",
            "10\t0.000000\n",
            "11\t0.000000\n",
            "12\t0.000000\n",
            "13\t0.000000\n",
            "\n",
            "P A R T I A L   C H A R G E S\n",
            "\n",
            "IDX\tCHARGE\n",
            "1\t0.000000\n",
            "2\t0.270000\n",
            "3\t-0.990000\n",
            "4\t0.000000\n",
            "5\t0.000000\n",
            "6\t0.000000\n",
            "7\t0.000000\n",
            "8\t0.000000\n",
            "9\t0.360000\n",
            "10\t0.360000\n",
            "11\t0.000000\n",
            "12\t0.000000\n",
            "13\t0.000000\n",
            "\n",
            "S E T T I N G   U P   C A L C U L A T I O N S\n",
            "\n",
            "SETTING UP BOND CALCULATIONS...\n",
            "SETTING UP ANGLE & STRETCH-BEND CALCULATIONS...\n",
            "SETTING UP TORSION CALCULATIONS...\n",
            "SETTING UP OOP CALCULATIONS...\n",
            "SETTING UP VAN DER WAALS CALCULATIONS...\n",
            "SETTING UP ELECTROSTATIC CALCULATIONS...\n",
            "\n",
            "W E I G H T E D   R O T O R   S E A R C H\n",
            "\n",
            "  NUMBER OF ROTATABLE BONDS: 0\n",
            "  NUMBER OF POSSIBLE ROTAMERS: 1\n",
            "  GENERATED ONLY ONE CONFORMER\n",
            "\n",
            "\n",
            "C O N J U G A T E   G R A D I E N T S\n",
            "\n",
            "STEPS = 100\n",
            "\n",
            "STEP n     E(n)       E(n-1)    \n",
            "--------------------------------\n",
            "    1      -5.337      -5.330\n",
            "   10      -5.393      -5.390\n",
            "   20      -5.442      -5.433\n",
            "   30      -5.478      -5.473\n",
            "   37      -5.506      -5.506\n",
            "    CONJUGATE GRADIENTS HAS CONVERGED\n"
          ]
        }
      ]
    },
    {
      "cell_type": "code",
      "source": [
        "!obabel best_conf.mol -O best_conf.xyz"
      ],
      "metadata": {
        "colab": {
          "base_uri": "https://localhost:8080/"
        },
        "id": "uMjSwFURV3wv",
        "outputId": "3e48ef56-ab40-406a-97b6-eed1da7552de"
      },
      "execution_count": 9,
      "outputs": [
        {
          "output_type": "stream",
          "name": "stdout",
          "text": [
            "1 molecule converted\n"
          ]
        }
      ]
    },
    {
      "cell_type": "code",
      "source": [
        "!obprop best_conf.mol"
      ],
      "metadata": {
        "colab": {
          "base_uri": "https://localhost:8080/"
        },
        "id": "qcr4YUkxCZof",
        "outputId": "86848285-d256-4854-ab64-211bcc1873d1"
      },
      "execution_count": 10,
      "outputs": [
        {
          "output_type": "stream",
          "name": "stdout",
          "text": [
            "name             best_conf.mol 1\n",
            "formula          C3H9N\n",
            "mol_weight       59.1103\n",
            "exact_mass       59.0735\n",
            "canonical_SMILES CC(N)C\t\n",
            "\n",
            "InChI            InChI=1S/C3H9N/c1-3(2)4/h3H,4H2,1-2H3\n",
            "\n",
            "num_atoms        13\n",
            "num_bonds        12\n",
            "num_residues     0\n",
            "num_rotors       0\n",
            "sequence         -\n",
            "num_rings        0\n",
            "logP             1.0538\n",
            "PSA              26.02\n",
            "MR               19.2424\n",
            "$$$$\n"
          ]
        }
      ]
    },
    {
      "cell_type": "markdown",
      "source": [
        "## Exemplo do uso do xTB para optimização da geoemtria"
      ],
      "metadata": {
        "id": "MAacbG3wDyRX"
      }
    },
    {
      "cell_type": "code",
      "source": [
        "run_xtb(\" best_conf.xyz --opt --namespace best_conf-opt  > best_conf-opt.out\")"
      ],
      "metadata": {
        "colab": {
          "base_uri": "https://localhost:8080/"
        },
        "id": "RivEEZhdD4Ed",
        "outputId": "dac16496-7c8a-4616-f3d0-228e2a4cd0aa"
      },
      "execution_count": 14,
      "outputs": [
        {
          "output_type": "execute_result",
          "data": {
            "text/plain": [
              "b''"
            ]
          },
          "metadata": {},
          "execution_count": 14
        }
      ]
    },
    {
      "cell_type": "markdown",
      "source": [
        "## Exemplo de uso da Classe Molecule para visualização 3D"
      ],
      "metadata": {
        "id": "5zSulD7hCgF-"
      }
    },
    {
      "cell_type": "code",
      "source": [
        "mymol=Molecule('best_conf-opt.xtbopt.xyz')\n",
        "mymol.show()"
      ],
      "metadata": {
        "id": "VYljIrGkWpDf",
        "colab": {
          "base_uri": "https://localhost:8080/",
          "height": 417
        },
        "outputId": "84db98e8-195c-4e6f-d2be-6f18989c8b38"
      },
      "execution_count": 15,
      "outputs": [
        {
          "output_type": "display_data",
          "data": {
            "application/3dmoljs_load.v0": "<div id=\"3dmolviewer_16479020016737392\"  style=\"position: relative; width: 400px; height: 400px\">\n        <p id=\"3dmolwarning_16479020016737392\" style=\"background-color:#ffcccc;color:black\">You appear to be running in JupyterLab (or JavaScript failed to load for some other reason).  You need to install the 3dmol extension: <br>\n        <tt>jupyter labextension install jupyterlab_3dmol</tt></p>\n        </div>\n<script>\n\nvar loadScriptAsync = function(uri){\n  return new Promise((resolve, reject) => {\n    var tag = document.createElement('script');\n    tag.src = uri;\n    tag.async = true;\n    tag.onload = () => {\n      resolve();\n    };\n  var firstScriptTag = document.getElementsByTagName('script')[0];\n  firstScriptTag.parentNode.insertBefore(tag, firstScriptTag);\n});\n};\n\nif(typeof $3Dmolpromise === 'undefined') {\n$3Dmolpromise = null;\n  $3Dmolpromise = loadScriptAsync('https://3dmol.org/build/3Dmol.js');\n}\n\nvar viewer_16479020016737392 = null;\nvar warn = document.getElementById(\"3dmolwarning_16479020016737392\");\nif(warn) {\n    warn.parentNode.removeChild(warn);\n}\n$3Dmolpromise.then(function() {\nviewer_16479020016737392 = $3Dmol.createViewer($(\"#3dmolviewer_16479020016737392\"),{backgroundColor:\"white\"});\nviewer_16479020016737392.zoomTo();\n\tviewer_16479020016737392.addModel(\"13\\n Created by Molecule Class\\nC          -0.580629        -1.195096         0.199787\\nC           0.114748         0.049950        -0.368260\\nN           1.546664         0.080870        -0.111356\\nC          -0.509569         1.320835         0.201798\\nH          -0.142794        -2.101211        -0.216523\\nH          -1.640414        -1.183521        -0.041672\\nH          -0.473384        -1.225496         1.283441\\nH          -0.005984         0.053513        -1.458777\\nH           1.995324        -0.742501        -0.498207\\nH           1.718124         0.084914         0.889192\\nH          -1.558696         1.387329        -0.073544\\nH           0.014412         2.190757        -0.183615\\nH          -0.433002         1.323958         1.287435\\n\");\n\tviewer_16479020016737392.setStyle({\"stick\": {}, \"sphere\": {\"scale\": 0.3}});\n\tviewer_16479020016737392.setBackgroundColor(\"0xeeeeee\");\n\tviewer_16479020016737392.zoomTo();\nviewer_16479020016737392.render();\n});\n</script>",
            "text/html": [
              "<div id=\"3dmolviewer_16479020016737392\"  style=\"position: relative; width: 400px; height: 400px\">\n",
              "        <p id=\"3dmolwarning_16479020016737392\" style=\"background-color:#ffcccc;color:black\">You appear to be running in JupyterLab (or JavaScript failed to load for some other reason).  You need to install the 3dmol extension: <br>\n",
              "        <tt>jupyter labextension install jupyterlab_3dmol</tt></p>\n",
              "        </div>\n",
              "<script>\n",
              "\n",
              "var loadScriptAsync = function(uri){\n",
              "  return new Promise((resolve, reject) => {\n",
              "    var tag = document.createElement('script');\n",
              "    tag.src = uri;\n",
              "    tag.async = true;\n",
              "    tag.onload = () => {\n",
              "      resolve();\n",
              "    };\n",
              "  var firstScriptTag = document.getElementsByTagName('script')[0];\n",
              "  firstScriptTag.parentNode.insertBefore(tag, firstScriptTag);\n",
              "});\n",
              "};\n",
              "\n",
              "if(typeof $3Dmolpromise === 'undefined') {\n",
              "$3Dmolpromise = null;\n",
              "  $3Dmolpromise = loadScriptAsync('https://3dmol.org/build/3Dmol.js');\n",
              "}\n",
              "\n",
              "var viewer_16479020016737392 = null;\n",
              "var warn = document.getElementById(\"3dmolwarning_16479020016737392\");\n",
              "if(warn) {\n",
              "    warn.parentNode.removeChild(warn);\n",
              "}\n",
              "$3Dmolpromise.then(function() {\n",
              "viewer_16479020016737392 = $3Dmol.createViewer($(\"#3dmolviewer_16479020016737392\"),{backgroundColor:\"white\"});\n",
              "viewer_16479020016737392.zoomTo();\n",
              "\tviewer_16479020016737392.addModel(\"13\\n Created by Molecule Class\\nC          -0.580629        -1.195096         0.199787\\nC           0.114748         0.049950        -0.368260\\nN           1.546664         0.080870        -0.111356\\nC          -0.509569         1.320835         0.201798\\nH          -0.142794        -2.101211        -0.216523\\nH          -1.640414        -1.183521        -0.041672\\nH          -0.473384        -1.225496         1.283441\\nH          -0.005984         0.053513        -1.458777\\nH           1.995324        -0.742501        -0.498207\\nH           1.718124         0.084914         0.889192\\nH          -1.558696         1.387329        -0.073544\\nH           0.014412         2.190757        -0.183615\\nH          -0.433002         1.323958         1.287435\\n\");\n",
              "\tviewer_16479020016737392.setStyle({\"stick\": {}, \"sphere\": {\"scale\": 0.3}});\n",
              "\tviewer_16479020016737392.setBackgroundColor(\"0xeeeeee\");\n",
              "\tviewer_16479020016737392.zoomTo();\n",
              "viewer_16479020016737392.render();\n",
              "});\n",
              "</script>"
            ]
          },
          "metadata": {}
        }
      ]
    }
  ]
}